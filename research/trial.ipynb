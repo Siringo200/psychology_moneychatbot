{
 "cells": [
  {
   "cell_type": "code",
   "execution_count": 1,
   "id": "a8e3db4d",
   "metadata": {},
   "outputs": [
    {
     "name": "stdout",
     "output_type": "stream",
     "text": [
      "ok\n"
     ]
    }
   ],
   "source": [
    "print(\"ok\")"
   ]
  },
  {
   "cell_type": "code",
   "execution_count": 2,
   "id": "59473b03",
   "metadata": {},
   "outputs": [],
   "source": [
    "from langchain.document_loaders import PyPDFLoader, DirectoryLoader\n",
    "from langchain.text_splitter import RecursiveCharacterTextSplitter"
   ]
  },
  {
   "cell_type": "code",
   "execution_count": 3,
   "id": "c44cc70f",
   "metadata": {},
   "outputs": [],
   "source": [
    "#ekstrak data dari pdf\n",
    "def load_pdf_file(data):\n",
    "    loader = DirectoryLoader(data,\n",
    "                             glob=\"*.pdf\",\n",
    "                             loader_cls=PyPDFLoader)\n",
    "    documents = loader.load()\n",
    "    return documents\n"
   ]
  },
  {
   "cell_type": "code",
   "execution_count": 4,
   "id": "a8e645a7",
   "metadata": {},
   "outputs": [],
   "source": [
    "extracted_data = load_pdf_file(data='../Data')"
   ]
  },
  {
   "cell_type": "code",
   "execution_count": 5,
   "id": "c29b51c6",
   "metadata": {},
   "outputs": [
    {
     "data": {
      "text/plain": [
       "[Document(metadata={'producer': 'macOS Version 10.14.6 (Build 18G3020) Quartz PDFContext', 'creator': 'Adobe InDesign 15.0 (Macintosh)', 'creationdate': \"D:20210505131951Z00'00'\", 'author': 'Morgan Housel', 'moddate': \"D:20210505131951Z00'00'\", 'title': 'The Psychology of Money', 'source': '..\\\\Data\\\\money_book.pdf', 'total_pages': 32, 'page': 0, 'page_label': '1'}, page_content='Money\\nPsychology\\nof\\nThe'),\n",
       " Document(metadata={'producer': 'macOS Version 10.14.6 (Build 18G3020) Quartz PDFContext', 'creator': 'Adobe InDesign 15.0 (Macintosh)', 'creationdate': \"D:20210505131951Z00'00'\", 'author': 'Morgan Housel', 'moddate': \"D:20210505131951Z00'00'\", 'title': 'The Psychology of Money', 'source': '..\\\\Data\\\\money_book.pdf', 'total_pages': 32, 'page': 1, 'page_label': '2'}, page_content=''),\n",
       " Document(metadata={'producer': 'macOS Version 10.14.6 (Build 18G3020) Quartz PDFContext', 'creator': 'Adobe InDesign 15.0 (Macintosh)', 'creationdate': \"D:20210505131951Z00'00'\", 'author': 'Morgan Housel', 'moddate': \"D:20210505131951Z00'00'\", 'title': 'The Psychology of Money', 'source': '..\\\\Data\\\\money_book.pdf', 'total_pages': 32, 'page': 2, 'page_label': '3'}, page_content='MORGAN HOUSEL\\nTIMELESS LESSONS ON WEALTH, \\nGREED, AND HAPPINESS\\nMoney\\nPsychology\\nof\\nThe'),\n",
       " Document(metadata={'producer': 'macOS Version 10.14.6 (Build 18G3020) Quartz PDFContext', 'creator': 'Adobe InDesign 15.0 (Macintosh)', 'creationdate': \"D:20210505131951Z00'00'\", 'author': 'Morgan Housel', 'moddate': \"D:20210505131951Z00'00'\", 'title': 'The Psychology of Money', 'source': '..\\\\Data\\\\money_book.pdf', 'total_pages': 32, 'page': 3, 'page_label': '4'}, page_content='harriman house ltd\\n3 Viceroy Court\\nBedford Road \\nPetersfield \\nHampshire\\nGU32 3LJ\\nGREAT BRITAIN\\nTel: +44 (0)1730 233870\\nEmail: enquiries@harriman-house.com\\nWebsite: harriman.house\\nFirst published in 2020.\\nCopyright © Morgan Housel\\nThe right of Morgan Housel to be identified as the Author has been asserted in \\naccordance with the Copyright, Design and Patents Act 1988.\\nPaperback ISBN: 978-0-85719-768-9\\neBook ISBN: 978-0-85719-769-6\\nBritish Library Cataloguing in Publication Data\\nA CIP catalogue record for this book can be obtained from the British Library.\\nAll rights reserved; no part of this publication may be reproduced, stored in a \\nretrieval system, or transmitted in any form or by any means, electronic, mechanical, \\nphotocopying, recording, or otherwise without the prior written permission of the \\nPublisher. This book may not be lent, resold, hired out or otherwise disposed of by \\nway of trade in any form of binding or cover other than that in which it is published \\nwithout the prior written consent of the Publisher.\\nWhilst every effort has been made to ensure that information in this book is accurate, \\nno liability can be accepted for any loss incurred in any way whatsoever by any person \\nrelying solely on the information contained herein.\\nNo responsibility for loss occasioned to any person or corporate body acting or \\nrefraining to act as a result of reading material in this book can be accepted by the \\nPublisher, by the Author, or by the employers of the Author.'),\n",
       " Document(metadata={'producer': 'macOS Version 10.14.6 (Build 18G3020) Quartz PDFContext', 'creator': 'Adobe InDesign 15.0 (Macintosh)', 'creationdate': \"D:20210505131951Z00'00'\", 'author': 'Morgan Housel', 'moddate': \"D:20210505131951Z00'00'\", 'title': 'The Psychology of Money', 'source': '..\\\\Data\\\\money_book.pdf', 'total_pages': 32, 'page': 4, 'page_label': '5'}, page_content='For\\nMy parents, who teach me. \\nGretchen, who guides me. \\nMiles and Reese, who inspire me.'),\n",
       " Document(metadata={'producer': 'macOS Version 10.14.6 (Build 18G3020) Quartz PDFContext', 'creator': 'Adobe InDesign 15.0 (Macintosh)', 'creationdate': \"D:20210505131951Z00'00'\", 'author': 'Morgan Housel', 'moddate': \"D:20210505131951Z00'00'\", 'title': 'The Psychology of Money', 'source': '..\\\\Data\\\\money_book.pdf', 'total_pages': 32, 'page': 5, 'page_label': '6'}, page_content=''),\n",
       " Document(metadata={'producer': 'macOS Version 10.14.6 (Build 18G3020) Quartz PDFContext', 'creator': 'Adobe InDesign 15.0 (Macintosh)', 'creationdate': \"D:20210505131951Z00'00'\", 'author': 'Morgan Housel', 'moddate': \"D:20210505131951Z00'00'\", 'title': 'The Psychology of Money', 'source': '..\\\\Data\\\\money_book.pdf', 'total_pages': 32, 'page': 6, 'page_label': '7'}, page_content='V II\\n \\nContents\\nIntroduction: The Greatest Show On Earth 1\\n1. No One’s Crazy 9\\n2. Luck & Risk 23\\n3. Never Enough 35\\n4. Confounding Compounding 45\\n5. Getting Wealthy vs. Staying Wealthy 55\\n6. T ails, Y ou Win 69\\n7. Freedom  81\\n8. Man in the Car Paradox  91\\n9. Wealth is What Y ou Don’t See 95\\n10. Save Money 101\\n11. Reasonable > Rational 111\\n12. Surprise! 121\\n13. Room for Error 135\\n14. Y ou’ll Change 147\\n15. Nothing’s Free 155\\n16. Y ou & Me  165\\n17. The Seduction of Pessimism  175'),\n",
       " Document(metadata={'producer': 'macOS Version 10.14.6 (Build 18G3020) Quartz PDFContext', 'creator': 'Adobe InDesign 15.0 (Macintosh)', 'creationdate': \"D:20210505131951Z00'00'\", 'author': 'Morgan Housel', 'moddate': \"D:20210505131951Z00'00'\", 'title': 'The Psychology of Money', 'source': '..\\\\Data\\\\money_book.pdf', 'total_pages': 32, 'page': 7, 'page_label': '8'}, page_content='V III\\nTHE PSYCHOLOGY OF MONEY\\n18. When Y ou’ll Believe Anything 189\\n19. All T ogether Now  203\\n20. Confessions 211\\nPostscript: A Brief History of Why the U.S. Consumer \\nThinks the Way They Do 221\\nEndnotes  239\\nAcknowledgements  242'),\n",
       " Document(metadata={'producer': 'macOS Version 10.14.6 (Build 18G3020) Quartz PDFContext', 'creator': 'Adobe InDesign 15.0 (Macintosh)', 'creationdate': \"D:20210505131951Z00'00'\", 'author': 'Morgan Housel', 'moddate': \"D:20210505131951Z00'00'\", 'title': 'The Psychology of Money', 'source': '..\\\\Data\\\\money_book.pdf', 'total_pages': 32, 'page': 8, 'page_label': '9'}, page_content='“ A genius is the man who can do the average thing when \\neveryone else around him is losing his mind.”\\n—Napoleon\\n“The world is full of obvious things which nobody by any \\nchance ever observes.”\\n—Sherlock Holmes'),\n",
       " Document(metadata={'producer': 'macOS Version 10.14.6 (Build 18G3020) Quartz PDFContext', 'creator': 'Adobe InDesign 15.0 (Macintosh)', 'creationdate': \"D:20210505131951Z00'00'\", 'author': 'Morgan Housel', 'moddate': \"D:20210505131951Z00'00'\", 'title': 'The Psychology of Money', 'source': '..\\\\Data\\\\money_book.pdf', 'total_pages': 32, 'page': 9, 'page_label': '10'}, page_content=''),\n",
       " Document(metadata={'producer': 'macOS Version 10.14.6 (Build 18G3020) Quartz PDFContext', 'creator': 'Adobe InDesign 15.0 (Macintosh)', 'creationdate': \"D:20210505131951Z00'00'\", 'author': 'Morgan Housel', 'moddate': \"D:20210505131951Z00'00'\", 'title': 'The Psychology of Money', 'source': '..\\\\Data\\\\money_book.pdf', 'total_pages': 32, 'page': 10, 'page_label': '11'}, page_content='1\\n \\nINTRODUCTION:  \\nThe Greatest Show \\nOn Earth\\nI \\nspent my college  years working as a valet at a nice hotel \\nin Los Angeles. \\nOne frequent guest was a technology executive. He was a \\ngenius, having designed and patented a key component in Wi-Fi \\nrouters in his 20s. He had started and sold several companies. He \\nwas wildly successful. \\nHe also had a relationship with money I’d describe as a mix of \\ninsecurity and childish stupidity. \\nHe carried a stack of hundred dollar bills several inches thick. \\nHe showed it to everyone who wanted to see it and many who \\ndidn’t. He bragged openly and loudly about his wealth, often \\nwhile drunk and always apropos of nothing. \\nOne day he handed one of my colleagues several thousand \\ndollars of cash and said, “Go to the jewelry store down the street \\nand get me a few $1,000 gold coins.”\\nAn hour later, gold coins in hand, the tech executive and his \\nbuddies gathered around by a dock overlooking the Pacific Ocean. \\nThey then proceeded to throw the coins into the sea, skipping them \\nlike rocks, cackling as they argued whose went furthest. Just for fun. \\nDays later he shattered a lamp in the hotel’s restaurant. A \\nmanager told him it was a $500 lamp and he’d have to replace it.'),\n",
       " Document(metadata={'producer': 'macOS Version 10.14.6 (Build 18G3020) Quartz PDFContext', 'creator': 'Adobe InDesign 15.0 (Macintosh)', 'creationdate': \"D:20210505131951Z00'00'\", 'author': 'Morgan Housel', 'moddate': \"D:20210505131951Z00'00'\", 'title': 'The Psychology of Money', 'source': '..\\\\Data\\\\money_book.pdf', 'total_pages': 32, 'page': 11, 'page_label': '12'}, page_content='2\\nTHE PSYCHOLOGY OF MONEY\\n“You want five hundred dollars?” the executive asked \\nincredulously, while pulling a brick of cash from his pocket and \\nhanding it to the manager. “Here’s five thousand dollars. Now get \\nout of my face. And don’t ever insult me like that again.” \\nYou may wonder how long this behavior could last, and the \\nanswer was “not long.” I learned years later that he went broke. \\nThe premise of this book is that doing well with money has a \\nlittle to do with how smart you are and a lot to do with how you \\nbehave. And behavior is hard to teach, even to really smart people. \\nA genius who loses control of their emotions can be a financial \\ndisaster. The opposite is also true. Ordinary folks with no financial \\neducation can be wealthy if they have a handful of behavioral skills \\nthat have nothing to do with formal measures of intelligence. \\n***\\nMy favorite Wikipedia entry begins: “Ronald James Read was \\nan American philanthropist, investor, janitor, and gas station \\nattendant.”\\nRonald Read was born in rural Vermont. He was the first \\nperson in his family to graduate high school, made all the more \\nimpressive by the fact that he hitchhiked to campus each day. \\nFor those who knew Ronald Read, there wasn’t much else \\nworth mentioning. His life was about as low key as they come.  \\nRead fixed cars at a gas station for 25 years and swept floors \\nat JCPenney for 17 years. He bought a two-bedroom house for \\n$12,000 at age 38 and lived there for the rest of his life. He was \\nwidowed at age 50 and never remarried. A friend recalled that his \\nmain hobby was chopping firewood. \\nRead died in 2014, age 92. Which is when the humble rural \\njanitor made international headlines. \\n2,813,503 Americans died in 2014. Fewer than 4,000 of them \\nhad a net worth of over $8 million when they passed away. Ronald \\nRead was one of them.'),\n",
       " Document(metadata={'producer': 'macOS Version 10.14.6 (Build 18G3020) Quartz PDFContext', 'creator': 'Adobe InDesign 15.0 (Macintosh)', 'creationdate': \"D:20210505131951Z00'00'\", 'author': 'Morgan Housel', 'moddate': \"D:20210505131951Z00'00'\", 'title': 'The Psychology of Money', 'source': '..\\\\Data\\\\money_book.pdf', 'total_pages': 32, 'page': 12, 'page_label': '13'}, page_content='3\\n \\nIn his will the former janitor left $2 million to his stepkids and \\nmore than $6 million to his local hospital and library. \\nThose who knew Read were baffled. Where did he get all that \\nmoney? \\nIt turned out there was no secret. There was no lottery win and \\nno inheritance. Read saved what little he could and invested it \\nin blue chip stocks. Then he waited, for decades on end, as tiny \\nsavings compounded into more than $8 million. \\nThat’s it. From janitor to philanthropist. \\nA few months before Ronald Read died, another man named \\nRichard was in the news. \\nRichard Fuscone was everything Ronald Read was not. A \\nHarvard-educated Merrill Lynch executive with an MBA, \\nFuscone had such a successful career in finance that he retired \\nin his 40s to become a philanthropist. Former Merrill CEO \\nDavid Komansky praised Fuscone’s “business savvy, leadership \\nskills, sound judgment and personal integrity.” 1 Crain’s business \\nmagazine once included him in a “40 under 40” list of successful \\nbusinesspeople.2\\nBut then—like the gold-coin-skipping tech executive—\\neverything fell apart. \\nIn the mid-2000s Fuscone borrowed heavily to expand an \\n18,000-square foot home in Greenwich, Connecticut that had 11 \\nbathrooms, two elevators, two pools, seven garages, and cost more \\nthan $90,000 a month to maintain. \\nThen the 2008 financial crisis hit. \\nThe crisis hurt virtually everyone’s finances. It apparently \\nturned Fuscone’s into dust. High debt and illiquid assets left \\nhim bankrupt. “I currently have no income,” he allegedly told a \\nbankruptcy judge in 2008. \\nFirst his Palm Beach house was foreclosed. \\nIn 2014 it was the Greenwich mansion’s turn. \\nFive months before Ronald Read left his fortune to charity, \\n INTRODUCTION'),\n",
       " Document(metadata={'producer': 'macOS Version 10.14.6 (Build 18G3020) Quartz PDFContext', 'creator': 'Adobe InDesign 15.0 (Macintosh)', 'creationdate': \"D:20210505131951Z00'00'\", 'author': 'Morgan Housel', 'moddate': \"D:20210505131951Z00'00'\", 'title': 'The Psychology of Money', 'source': '..\\\\Data\\\\money_book.pdf', 'total_pages': 32, 'page': 13, 'page_label': '14'}, page_content='4\\nTHE PSYCHOLOGY OF MONEY\\nRichard Fuscone’s home—where guests recalled the “thrill of \\ndining and dancing atop a see-through covering on the home’s \\nindoor swimming pool”—was sold in a foreclosure auction for \\n75% less than an insurance company figured it was worth.3\\nRonald Read was patient; Richard Fuscone was greedy. That’s \\nall it took to eclipse the massive education and experience gap \\nbetween the two. \\nThe lesson here is not to be more like Ronald and less like \\nRichard—though that’s not bad advice.  \\nThe fascinating thing about these stories is how unique they \\nare to finance. \\nIn what other industry does someone with no college \\ndegree, no training, no background, no formal experience, and \\nno connections massively outperform someone with the best \\neducation, the best training, and the best connections? \\nI struggle to think of any.  \\nIt is impossible to think of a story about Ronald Read \\nperforming a heart transplant better than a Harvard-trained \\nsurgeon. Or designing a skyscraper superior to the best-trained \\narchitects. There will never be a story of a janitor outperforming \\nthe world’s top nuclear engineers. \\nBut these stories do happen in investing.\\nThe fact that Ronald Read can coexist with Richard Fuscone \\nhas two explanations. One, financial outcomes are driven by luck, \\nindependent of intelligence and effort. That’s true to some extent, \\nand this book will discuss it in further detail. Or, two (and I think \\nmore common), that financial success is not a hard science. It’s a soft \\nskill, where how you behave is more important than what you know. \\nI call this soft skill the psychology of money. The aim of this \\nbook is to use short stories to convince you that soft skills are \\nmore important than the technical side of money. I’ll do this in a \\nway that will help everyone—from Read to Fuscone and everyone \\nin between—make better financial decisions.'),\n",
       " Document(metadata={'producer': 'macOS Version 10.14.6 (Build 18G3020) Quartz PDFContext', 'creator': 'Adobe InDesign 15.0 (Macintosh)', 'creationdate': \"D:20210505131951Z00'00'\", 'author': 'Morgan Housel', 'moddate': \"D:20210505131951Z00'00'\", 'title': 'The Psychology of Money', 'source': '..\\\\Data\\\\money_book.pdf', 'total_pages': 32, 'page': 14, 'page_label': '15'}, page_content='5\\n INTRODUCTION\\nThese soft skills are, I’ve come to realize, greatly underappreciated. \\nFinance is overwhelmingly taught as a math-based field, where \\nyou put data into a formula and the formula tells you what to do, \\nand it’s assumed that you’ll just go do it. \\nThis is true in personal finance, where you’re told to have a six-\\nmonth emergency fund and save 10% of your salary. \\nIt’s true in investing, where we know the exact historical \\ncorrelations between interest rates and valuations. \\nAnd it’s true in corporate finance, where CFOs can measure \\nthe precise cost of capital. \\nIt’s not that any of these things are bad or wrong. It’s that \\nknowing what to do tells you nothing about what happens in \\nyour head when you try to do it. \\n***\\nTwo topics impact everyone, whether you are interested in them \\nor not: health and money. \\nThe health care industry is a triumph of modern science, with \\nrising life expectancy across the world. Scientific discoveries have \\nreplaced doctors’ old ideas about how the human body works, and \\nvirtually everyone is healthier because of it.  \\nThe money industry—investing, personal finance, business \\nplanning—is another story. \\nFinance has scooped up the smartest minds coming from top \\nuniversities over the last two decades. Financial Engineering was \\nthe most popular major in Princeton’s School of Engineering a \\ndecade ago. Is there any evidence it has made us better investors? \\nI have seen none. \\nThrough collective trial and error over the years we learned \\nhow to become better farmers, skilled plumbers, and advanced \\nchemists. But has trial and error taught us to become better with \\nour personal finances? Are we less likely to bury ourselves in \\ndebt? More likely to save for a rainy day? Prepare for retirement?'),\n",
       " Document(metadata={'producer': 'macOS Version 10.14.6 (Build 18G3020) Quartz PDFContext', 'creator': 'Adobe InDesign 15.0 (Macintosh)', 'creationdate': \"D:20210505131951Z00'00'\", 'author': 'Morgan Housel', 'moddate': \"D:20210505131951Z00'00'\", 'title': 'The Psychology of Money', 'source': '..\\\\Data\\\\money_book.pdf', 'total_pages': 32, 'page': 15, 'page_label': '16'}, page_content='6\\nTHE PSYCHOLOGY OF MONEY\\nHave realistic views about what money does, and doesn’t do, to \\nour happiness?\\nI’ve seen no compelling evidence. \\nMost of the reason why, I believe, is that we think about and \\nare taught about money in ways that are too much like physics \\n(with rules and laws) and not enough like psychology (with \\nemotions and nuance). \\nAnd that, to me, is as fascinating as it is important. \\nMoney is everywhere, it affects all of us, and confuses most of \\nus. Everyone thinks about it a little differently. It offers lessons \\non things that apply to many areas of life, like risk, confidence, \\nand happiness. Few topics offer a more powerful magnifying \\nglass that helps explain why people behave the way they do than \\nmoney. It is one of the greatest shows on Earth.\\nMy own appreciation for the psychology of money is shaped \\nby more than a decade of writing on the topic. I began writing \\nabout finance in early 2008. It was the dawn of a financial crisis \\nand the worst recession in 80 years. \\nTo write about what was happening, I wanted to figure out what \\nwas happening. But the first thing I learned after the financial \\ncrisis was that no one could accurately explain what happened, \\nor why it happened, let alone what should be done about it. For \\nevery good explanation there was an equally convincing rebuttal. \\nEngineers can determine the cause of a bridge collapse because \\nthere’s agreement that if a certain amount of force is applied to \\na certain area, that area will break. Physics isn’t controversial. \\nIt’s guided by laws. Finance is different. It’s guided by people’s \\nbehaviors. And how I behave might make sense to me but look \\ncrazy to you. \\nThe more I studied and wrote about the financial crisis, the \\nmore I realized that you could understand it better through the \\nlenses of psychology and history, not finance. \\nTo grasp why people bury themselves in debt you don’t need'),\n",
       " Document(metadata={'producer': 'macOS Version 10.14.6 (Build 18G3020) Quartz PDFContext', 'creator': 'Adobe InDesign 15.0 (Macintosh)', 'creationdate': \"D:20210505131951Z00'00'\", 'author': 'Morgan Housel', 'moddate': \"D:20210505131951Z00'00'\", 'title': 'The Psychology of Money', 'source': '..\\\\Data\\\\money_book.pdf', 'total_pages': 32, 'page': 16, 'page_label': '17'}, page_content='7\\n INTRODUCTION\\nto study interest rates; you need to study the history of greed, \\ninsecurity, and optimism. To get why investors sell out at the \\nbottom of a bear market you don’t need to study the math of \\nexpected future returns; you need to think about the agony of \\nlooking at your family and wondering if your investments are \\nimperiling their future. \\nI love Voltaire’s observation that “History never repeats itself; \\nman always does.” It applies so well to how we behave with money.\\nIn 2018, I wrote a report outlining 20 of the most important \\nflaws, biases, and causes of bad behavior I’ve seen affect people \\nwhen dealing with money. It was called The Psychology of Money, \\nand over one million people have read it. This book is a deeper \\ndive into the topic. Some short passages from the report appear \\nunaltered in this book. \\nWhat you’re holding is 20 chapters, each describing what I \\nconsider to be the most important and often counterintuitive \\nfeatures of the psychology of money. The chapters revolve \\naround a common theme, but exist on their own and can be read \\nindependently.\\nIt’s not a long book. You’re welcome. Most readers don’t finish \\nthe books they begin because most single topics don’t require 300 \\npages of explanation. I’d rather make 20 short points you finish \\nthan one long one you give up on. \\nOn we go.'),\n",
       " Document(metadata={'producer': 'macOS Version 10.14.6 (Build 18G3020) Quartz PDFContext', 'creator': 'Adobe InDesign 15.0 (Macintosh)', 'creationdate': \"D:20210505131951Z00'00'\", 'author': 'Morgan Housel', 'moddate': \"D:20210505131951Z00'00'\", 'title': 'The Psychology of Money', 'source': '..\\\\Data\\\\money_book.pdf', 'total_pages': 32, 'page': 17, 'page_label': '18'}, page_content=''),\n",
       " Document(metadata={'producer': 'macOS Version 10.14.6 (Build 18G3020) Quartz PDFContext', 'creator': 'Adobe InDesign 15.0 (Macintosh)', 'creationdate': \"D:20210505131951Z00'00'\", 'author': 'Morgan Housel', 'moddate': \"D:20210505131951Z00'00'\", 'title': 'The Psychology of Money', 'source': '..\\\\Data\\\\money_book.pdf', 'total_pages': 32, 'page': 18, 'page_label': '19'}, page_content='1.  \\nNo One’ s \\nCrazy\\nYour personal experiences with money \\nmake up maybe 0.00000001% of what’s \\nhappened in the world, but maybe 80% of \\nhow you think the world works.'),\n",
       " Document(metadata={'producer': 'macOS Version 10.14.6 (Build 18G3020) Quartz PDFContext', 'creator': 'Adobe InDesign 15.0 (Macintosh)', 'creationdate': \"D:20210505131951Z00'00'\", 'author': 'Morgan Housel', 'moddate': \"D:20210505131951Z00'00'\", 'title': 'The Psychology of Money', 'source': '..\\\\Data\\\\money_book.pdf', 'total_pages': 32, 'page': 19, 'page_label': '20'}, page_content=''),\n",
       " Document(metadata={'producer': 'macOS Version 10.14.6 (Build 18G3020) Quartz PDFContext', 'creator': 'Adobe InDesign 15.0 (Macintosh)', 'creationdate': \"D:20210505131951Z00'00'\", 'author': 'Morgan Housel', 'moddate': \"D:20210505131951Z00'00'\", 'title': 'The Psychology of Money', 'source': '..\\\\Data\\\\money_book.pdf', 'total_pages': 32, 'page': 20, 'page_label': '21'}, page_content='11\\n1. N O  O NE ’S  C RA Z Y \\nL\\net me tell  you about a problem. It might make you \\nfeel better about what you do with your money, and less \\njudgmental about what other people do with theirs. \\nPeople do some crazy things with money. But no one is crazy. \\nHere’s the thing: People from different generations, raised by \\ndifferent parents who earned different incomes and held different \\nvalues, in different parts of the world, born into different economies, \\nexperiencing different job markets with different incentives and \\ndifferent degrees of luck, learn very different lessons. \\nEveryone has their own unique experience with how the world \\nworks. And what you’ve experienced is more compelling than \\nwhat you learn second-hand. So all of us—you, me, everyone—go \\nthrough life anchored to a set of views about how money works \\nthat vary wildly from person to person. What seems crazy to you \\nmight make sense to me. \\nThe person who grew up in poverty thinks about risk and \\nreward in ways the child of a wealthy banker cannot fathom if \\nhe tried. \\nThe person who grew up when inflation was high experienced \\nsomething the person who grew up with stable prices never had to. \\nThe stock broker who lost everything during the Great \\nDepression experienced something the tech worker basking in \\nthe glory of the late 1990s can’t imagine. \\nThe Australian who hasn’t seen a recession in 30 years has \\nexperienced something no American ever has.'),\n",
       " Document(metadata={'producer': 'macOS Version 10.14.6 (Build 18G3020) Quartz PDFContext', 'creator': 'Adobe InDesign 15.0 (Macintosh)', 'creationdate': \"D:20210505131951Z00'00'\", 'author': 'Morgan Housel', 'moddate': \"D:20210505131951Z00'00'\", 'title': 'The Psychology of Money', 'source': '..\\\\Data\\\\money_book.pdf', 'total_pages': 32, 'page': 21, 'page_label': '22'}, page_content='12\\nTHE PSYCHOLOGY OF MONEY\\nOn and on. The list of experiences is endless. \\nYou know stuff about money that I don’t, and vice versa. You \\ngo through life with different beliefs, goals, and forecasts, than I \\ndo. That’s not because one of us is smarter than the other, or has \\nbetter information. It’s because we’ve had different lives shaped \\nby different and equally persuasive experiences. \\nYour personal experiences with money make up maybe \\n0.00000001% of what’s happened in the world, but maybe 80% \\nof how you think the world works. So equally smart people can \\ndisagree about how and why recessions happen, how you should \\ninvest your money, what you should prioritize, how much risk you \\nshould take, and so on. \\nIn his book on 1930s America, Frederick Lewis Allen wrote \\nthat the Great Depression “marked millions of Americans—\\ninwardly—for the rest of their lives.” But there was a range \\nof experiences. Twenty-five years later, as he was running for \\npresident, John F. Kennedy was asked by a reporter what he \\nremembered from the Depression. He remarked: \\nI have no first-hand knowledge of the Depression. My family \\nhad one of the great fortunes of the world and it was worth \\nmore than ever then. We had bigger houses, more servants, \\nwe traveled more. About the only thing that I saw directly \\nwas when my father hired some extra gardeners just to give \\nthem a job so they could eat. I really did not learn about the \\nDepression until I read about it at Harvard.\\nThis was a major point in the 1960 election. How, people thought, \\ncould someone with no understanding of the biggest economic \\nstory of the last generation be put in charge of the economy? It \\nwas, in many ways, overcome only by JFK’s experience in World \\nWar II. That was the other most widespread emotional experience \\nof the previous generation, and something his primary opponent, \\nHubert Humphrey, didn’t have.'),\n",
       " Document(metadata={'producer': 'macOS Version 10.14.6 (Build 18G3020) Quartz PDFContext', 'creator': 'Adobe InDesign 15.0 (Macintosh)', 'creationdate': \"D:20210505131951Z00'00'\", 'author': 'Morgan Housel', 'moddate': \"D:20210505131951Z00'00'\", 'title': 'The Psychology of Money', 'source': '..\\\\Data\\\\money_book.pdf', 'total_pages': 32, 'page': 22, 'page_label': '23'}, page_content='13\\n1. N O  O NE ’S  C RA Z Y \\nThe challenge for us is that no amount of studying or open-\\nmindedness can genuinely recreate the power of fear and \\nuncertainty.  \\nI can read about what it was like to lose everything during \\nthe Great Depression. But I don’t have the emotional scars of \\nthose who actually experienced it. And the person who lived \\nthrough it can’t fathom why someone like me could come across \\nas complacent about things like owning stocks. We see the world \\nthrough a different lens. \\nSpreadsheets can model the historic frequency of big stock \\nmarket declines. But they can’t model the feeling of coming home, \\nlooking at your kids, and wondering if you’ve made a mistake \\nthat will impact their lives. Studying history makes you feel like \\nyou understand something. But until you’ve lived through it \\nand personally felt its consequences, you may not understand it \\nenough to change your behavior.\\nWe all think we know how the world works. But we’ve all only \\nexperienced a tiny sliver of it. \\nAs investor Michael Batnick says, “some lessons have to be \\nexperienced before they can be understood.” We are all victims, \\nin different ways, to that truth. \\n***\\nIn 2006 economists Ulrike Malmendier and Stefan Nagel from \\nthe National Bureau of Economic Research dug through 50 years \\nof the Survey of Consumer Finances—a detailed look at what \\nAmericans do with their money.4\\nIn theory people should make investment decisions based \\non their goals and the characteristics of the investment options \\navailable to them at the time. \\nBut that’s not what people do. \\nThe economists found that people’s lifetime investment \\ndecisions are heavily anchored to the experiences those investors'),\n",
       " Document(metadata={'producer': 'macOS Version 10.14.6 (Build 18G3020) Quartz PDFContext', 'creator': 'Adobe InDesign 15.0 (Macintosh)', 'creationdate': \"D:20210505131951Z00'00'\", 'author': 'Morgan Housel', 'moddate': \"D:20210505131951Z00'00'\", 'title': 'The Psychology of Money', 'source': '..\\\\Data\\\\money_book.pdf', 'total_pages': 32, 'page': 23, 'page_label': '24'}, page_content='14\\nTHE PSYCHOLOGY OF MONEY\\nhad in their own generation—especially experiences early in their \\nadult life.\\nIf you grew up when inflation was high, you invested less of \\nyour money in bonds later in life compared to those who grew \\nup when inflation was low. If you happened to grow up when \\nthe stock market was strong, you invested more of your money in \\nstocks later in life compared to those who grew up when stocks \\nwere weak. \\nThe economists wrote: “Our findings suggest that individual \\ninvestors’ willingness to bear risk depends on personal history.”\\nNot intelligence, or education, or sophistication. Just the dumb \\nluck of when and where you were born. \\nThe Financial Times interviewed Bill Gross, the famed bond \\nmanager, in 2019. “Gross admits that he would probably not be \\nwhere he is today if he had been born a decade earlier or later,” \\nthe piece said. Gross’s career coincided almost perfectly with a \\ngenerational collapse in interest rates that gave bond prices a \\ntailwind. That kind of thing doesn’t just affect the opportunities \\nyou come across; it affects what you think about those \\nopportunities when they’re presented to you. To Gross, bonds \\nwere wealth-generating machines. To his father’s generation, who \\ngrew up with and endured higher inflation, they might be seen as \\nwealth incinerators. \\nThe differences in how people have experienced money are not \\nsmall, even among those you might think are pretty similar. \\nTake stocks. If you were born in 1970, the S&P 500 increased \\nalmost 10-fold, adjusted for inflation, during your teens and 20s. \\nThat’s an amazing return. If you were born in 1950, the market \\nwent literally nowhere in your teens and 20s adjusted for inflation. \\nTwo groups of people, separated by chance of their birth year, go \\nthrough life with a completely different view on how the stock \\nmarket works:'),\n",
       " Document(metadata={'producer': 'macOS Version 10.14.6 (Build 18G3020) Quartz PDFContext', 'creator': 'Adobe InDesign 15.0 (Macintosh)', 'creationdate': \"D:20210505131951Z00'00'\", 'author': 'Morgan Housel', 'moddate': \"D:20210505131951Z00'00'\", 'title': 'The Psychology of Money', 'source': '..\\\\Data\\\\money_book.pdf', 'total_pages': 32, 'page': 24, 'page_label': '25'}, page_content='15\\n1. N O  O NE ’S  C RA Z Y \\n0 \\n1 \\n2 \\n3 \\n4 \\n5 \\n6 \\n7 \\n8 \\n9 \\n10 \\n13 18 \\nRebased to 1 at age 13 \\nAge \\nWhat stocks did in your teens and 20s \\nBorn 1950 Born 1970 \\n18 23 28\\nOr inflation. If you were born in 1960s America, inflation \\nduring your teens and 20s—your young, impressionable years \\nwhen you’re developing a base of knowledge about how the \\neconomy works—sent prices up more than threefold. That’s a \\nlot. You remember gas lines and getting paychecks that stretched \\nnoticeably less far than the ones before them. But if you were \\nborn in 1990, inflation has been so low for your whole life that it’s \\nprobably never crossed your mind.'),\n",
       " Document(metadata={'producer': 'macOS Version 10.14.6 (Build 18G3020) Quartz PDFContext', 'creator': 'Adobe InDesign 15.0 (Macintosh)', 'creationdate': \"D:20210505131951Z00'00'\", 'author': 'Morgan Housel', 'moddate': \"D:20210505131951Z00'00'\", 'title': 'The Psychology of Money', 'source': '..\\\\Data\\\\money_book.pdf', 'total_pages': 32, 'page': 25, 'page_label': '26'}, page_content='16\\nTHE PSYCHOLOGY OF MONEY\\n0 \\n1 \\n2 \\n3 \\n13 18 \\nRebased to 1 at age 13 \\nAge \\nWhat inﬂation did to prices in your teens and 20s \\nBorn 1960 Born 1990 \\n18 23 28\\nAmerica’s nationwide unemployment in November 2009 was \\naround 10%. But the unemployment rate for African American \\nmales age 16 to 19 without a high school diploma was 49%. For \\nCaucasian females over age 45 with a college degree, it was 4%.\\nLocal stock markets in Germany and Japan were wiped out \\nduring World War II. Entire regions were bombed out. At the \\nend of the war German farms only produced enough food to \\nprovide the country’s citizens with 1,000 calories a day. Compare \\nthat to the U.S., where the stock market more than doubled from \\n1941 through the end of 1945, and the economy was the strongest \\nit had been in almost two decades. \\nNo one should expect members of these groups to go through \\nthe rest of their lives thinking the same thing about inflation. Or \\nthe stock market. Or unemployment. Or money in general. \\nNo one should expect them to respond to financial information \\nthe same way. No one should assume they are influenced by the \\nsame incentives.'),\n",
       " Document(metadata={'producer': 'macOS Version 10.14.6 (Build 18G3020) Quartz PDFContext', 'creator': 'Adobe InDesign 15.0 (Macintosh)', 'creationdate': \"D:20210505131951Z00'00'\", 'author': 'Morgan Housel', 'moddate': \"D:20210505131951Z00'00'\", 'title': 'The Psychology of Money', 'source': '..\\\\Data\\\\money_book.pdf', 'total_pages': 32, 'page': 26, 'page_label': '27'}, page_content='17\\n1. N O  O NE ’S  C RA Z Y \\nNo one should expect them to trust the same sources of advice. \\nNo one should expect them to agree on what matters, what’s \\nworth it, what’s likely to happen next, and what the best path \\nforward is. \\nTheir view of money was formed in different worlds. And when \\nthat’s the case, a view about money that one group of people \\nthinks is outrageous can make perfect sense to another.  \\nA few years ago, The New York Times did a story on the working \\nconditions of Foxconn, the massive Taiwanese electronics \\nmanufacturer. The conditions are often atrocious. Readers were \\nrightly upset. But a fascinating response to the story came from \\nthe nephew of a Chinese worker, who wrote in the comment \\nsection:\\nMy aunt worked several years in what Americans call “sweat \\nshops.” It was hard work. Long hours, “small” wage, “poor” \\nworking conditions. Do you know what my aunt did before \\nshe worked in one of these factories? She was a prostitute.\\nThe idea of working in a “sweat shop” compared to that old \\nlifestyle is an improvement, in my opinion. I know that my \\naunt would rather be “exploited” by an evil capitalist boss for \\na couple of dollars than have her body be exploited by several \\nmen for pennies.\\nThat is why I am upset by many Americans’ thinking. We do \\nnot have the same opportunities as the West. Our governmental \\ninfrastructure is different. The country is different. Yes, factory \\nis hard labor. Could it be better? Yes, but only when you \\ncompare such to American jobs.\\nI don’t know what to make of this. Part of me wants to argue, \\nfiercely. Part of me wants to understand. But mostly it’s an \\nexample of how different experiences can lead to vastly different \\nviews within topics that one side intuitively thinks should be \\nblack and white.'),\n",
       " Document(metadata={'producer': 'macOS Version 10.14.6 (Build 18G3020) Quartz PDFContext', 'creator': 'Adobe InDesign 15.0 (Macintosh)', 'creationdate': \"D:20210505131951Z00'00'\", 'author': 'Morgan Housel', 'moddate': \"D:20210505131951Z00'00'\", 'title': 'The Psychology of Money', 'source': '..\\\\Data\\\\money_book.pdf', 'total_pages': 32, 'page': 27, 'page_label': '28'}, page_content='18\\nTHE PSYCHOLOGY OF MONEY\\nEvery decision people make with money is justified by taking \\nthe information they have at the moment and plugging it into \\ntheir unique mental model of how the world works. \\nThose people can be misinformed. They can have incomplete \\ninformation. They can be bad at math. They can be persuaded by \\nrotten marketing. They can have no idea what they’re doing. They \\ncan misjudge the consequences of their actions. Oh, can they ever.\\nBut every financial decision a person makes, makes sense to \\nthem in that moment and checks the boxes they need to check. \\nThey tell themselves a story about what they’re doing and why \\nthey’re doing it, and that story has been shaped by their own \\nunique experiences. \\nTake a simple example: lottery tickets. \\nAmericans spend more on them than movies, video games, \\nmusic, sporting events, and books combined. \\nAnd who buys them? Mostly poor people. \\nThe lowest-income households in the U.S. on average spend \\n$412 a year on lotto tickets, four times the amount of those in the \\nhighest income groups. Forty percent of Americans cannot come \\nup with $400 in an emergency. Which is to say: Those buying \\n$400 in lottery tickets are by and large the same people who \\nsay they couldn’t come up with $400 in an emergency. They are \\nblowing their safety nets on something with a one-in-millions \\nchance of hitting it big. \\nThat seems crazy to me. It probably seems crazy to you, too. \\nBut I’m not in the lowest income group. You’re likely not, either. \\nSo it’s hard for many of us to intuitively grasp the subconscious \\nreasoning of low-income lottery ticket buyers. \\nBut strain a little, and you can imagine it going something \\nlike this:\\nWe live paycheck-to-paycheck and saving seems out of reach. \\nOur prospects for much higher wages seem out of reach. We'),\n",
       " Document(metadata={'producer': 'macOS Version 10.14.6 (Build 18G3020) Quartz PDFContext', 'creator': 'Adobe InDesign 15.0 (Macintosh)', 'creationdate': \"D:20210505131951Z00'00'\", 'author': 'Morgan Housel', 'moddate': \"D:20210505131951Z00'00'\", 'title': 'The Psychology of Money', 'source': '..\\\\Data\\\\money_book.pdf', 'total_pages': 32, 'page': 28, 'page_label': '29'}, page_content='19\\n1. N O  O NE ’S  C RA Z Y \\ncan’t afford nice vacations, new cars, health insurance, or homes \\nin safe neighborhoods. We can’t put our kids through college \\nwithout crippling debt. Much of the stuff you people who read \\nfinance books either have now, or have a good chance of getting, \\nwe don’t. Buying a lottery ticket is the only time in our lives we \\ncan hold a tangible dream of getting the good stuff that you \\nalready have and take for granted. We are paying for a dream, \\nand you may not understand that because you are already living \\na dream. That’s why we buy more tickets than you do.\\nYou don’t have to agree with this reasoning. Buying lotto tickets \\nwhen you’re broke is still a bad idea. But I can kind of understand \\nwhy lotto ticket sales persist. \\nAnd that idea—“What you’re doing seems crazy but I kind of \\nunderstand why you’re doing it.”—uncovers the root of many of \\nour financial decisions. \\nFew people make financial decisions purely with a spreadsheet. \\nThey make them at the dinner table, or in a company meeting. \\nPlaces where personal history, your own unique view of the world, \\nego, pride, marketing, and odd incentives are scrambled together \\ninto a narrative that works for you. \\n***\\nAnother important point that helps explain why money decisions \\nare so difficult, and why there is so much misbehavior, is to \\nrecognize how new this topic is. \\nMoney has been around a long time. King Alyattes of Lydia, \\nnow part of Turkey, is thought to have created the first official \\ncurrency in 600 BC. But the modern foundation of money \\ndecisions—saving and investing—is based around concepts that \\nare practically infants. \\nTake retirement. At the end of 2018 there was $27 trillion in U.S. \\nretirement accounts, making it the main driver of the common \\ninvestor’s saving and investing decisions.5'),\n",
       " Document(metadata={'producer': 'macOS Version 10.14.6 (Build 18G3020) Quartz PDFContext', 'creator': 'Adobe InDesign 15.0 (Macintosh)', 'creationdate': \"D:20210505131951Z00'00'\", 'author': 'Morgan Housel', 'moddate': \"D:20210505131951Z00'00'\", 'title': 'The Psychology of Money', 'source': '..\\\\Data\\\\money_book.pdf', 'total_pages': 32, 'page': 29, 'page_label': '30'}, page_content='20\\nTHE PSYCHOLOGY OF MONEY\\nBut the entire concept of being entitled to retirement is, at \\nmost, two generations old. \\nBefore World War II most Americans worked until they \\ndied. That was the expectation and the reality. The labor force \\nparticipation rate of men age 65 and over was above 50% until \\nthe 1940s:\\n1880\\n1890\\n1900\\n1910\\n1920\\n1930\\n1940\\n1950\\n1960\\n1970\\n1980\\n1990\\n2000\\n2010\\n78% \\n74% \\n65% \\n58% 60% 58% \\n44% \\n47% \\n41% \\n35% \\n25% \\n18% 18% \\n22% \\n0% \\n10% \\n20% \\n30% \\n40% \\n50% \\n60% \\n70% \\n80% \\n90% \\nLaborforce participation rate for men age 65+ \\nSocial Security aimed to change this. But its initial benefits \\nwere nothing close to a proper pension. When Ida May Fuller \\ncashed the first Social Security check in 1940, it was for $22.54, \\nor $416 adjusted for inflation. It was not until the 1980s that \\nthe average Social Security check for retirees exceeded $1,000 a \\nmonth adjusted for inflation. More than a quarter of Americans \\nover age 65 were classified by the Census Bureau as living in \\npoverty until the late 1960s. \\nThere is a widespread belief along the lines of, “everyone used \\nto have a private pension.” But this is wildly exaggerated. The \\nEmployee Benefit Research Institute explains: “Only a quarter of'),\n",
       " Document(metadata={'producer': 'macOS Version 10.14.6 (Build 18G3020) Quartz PDFContext', 'creator': 'Adobe InDesign 15.0 (Macintosh)', 'creationdate': \"D:20210505131951Z00'00'\", 'author': 'Morgan Housel', 'moddate': \"D:20210505131951Z00'00'\", 'title': 'The Psychology of Money', 'source': '..\\\\Data\\\\money_book.pdf', 'total_pages': 32, 'page': 30, 'page_label': '31'}, page_content='21\\n1. N O  O NE ’S  C RA Z Y \\nthose age 65 or older had pension income in 1975.” Among that \\nlucky minority, only 15% of household income came from a pension. \\nThe New York Times  wrote in 1955 about the growing desire, \\nbut continued inability, to retire: “To rephrase an old saying: \\neveryone talks about retirement, but apparently very few do \\nanything about it.”6\\nIt was not until the 1980s that the idea that everyone deserves, \\nand should have, a dignified retirement took hold. And the way \\nto get that dignified retirement ever since has been an expectation \\nthat everyone will save and invest their own money. \\nLet me reiterate how new this idea is: The 401(k)—the \\nbackbone savings vehicle of American retirement—did not exist \\nuntil 1978. The Roth IRA was not born until 1998. If it were a \\nperson it would be barely old enough to drink. \\nIt should surprise no one that many of us are bad at saving and \\ninvesting for retirement. We’re not crazy. We’re all just newbies. \\nSame goes for college. The share of Americans over age 25 with \\na bachelor’s degree has gone from less than 1 in 20 in 1940 to 1 in \\n4 by 2015. 7 The average college tuition over that time rose more \\nthan fourfold adjusted for inflation. 8 Something so big and so \\nimportant hitting society so fast explains why, for example, so \\nmany people have made poor decisions with student loans over \\nthe last 20 years. There is not decades of accumulated experience \\nto even attempt to learn from. We’re winging it. \\nSame for index funds, which are less than 50 years old. And \\nhedge funds, which didn’t take off until the last 25 years. Even \\nwidespread use of consumer debt—mortgages, credit cards, and \\ncar loans—did not take off until after World War II, when the GI \\nBill made it easier for millions of Americans to borrow. \\nDogs were domesticated 10,000 years ago and still retain some \\nbehaviors of their wild ancestors. Yet here we are, with between 20 \\nand 50 years of experience in the modern financial system, hoping \\nto be perfectly acclimated.'),\n",
       " Document(metadata={'producer': 'macOS Version 10.14.6 (Build 18G3020) Quartz PDFContext', 'creator': 'Adobe InDesign 15.0 (Macintosh)', 'creationdate': \"D:20210505131951Z00'00'\", 'author': 'Morgan Housel', 'moddate': \"D:20210505131951Z00'00'\", 'title': 'The Psychology of Money', 'source': '..\\\\Data\\\\money_book.pdf', 'total_pages': 32, 'page': 31, 'page_label': '32'}, page_content='22\\nTHE PSYCHOLOGY OF MONEY\\nFor a topic that is so influenced by emotion versus fact, this is a \\nproblem. And it helps explain why we don’t always do what we’re \\nsupposed to with money. \\nWe all do crazy stuff with money, because we’re all relatively \\nnew to this game and what looks crazy to you might make sense \\nto me. But no one is crazy—we all make decisions based on our \\nown unique experiences that seem to make sense to us in a given \\nmoment. \\nNow let me tell you a story about how Bill Gates got rich.')]"
      ]
     },
     "execution_count": 5,
     "metadata": {},
     "output_type": "execute_result"
    }
   ],
   "source": [
    "extracted_data"
   ]
  },
  {
   "cell_type": "code",
   "execution_count": 6,
   "id": "231a3e8b",
   "metadata": {},
   "outputs": [],
   "source": [
    "#split data\n",
    "def text_splitter(documents):\n",
    "    text_splitter = RecursiveCharacterTextSplitter(chunk_size=500, chunk_overlap=20)\n",
    "    text_chunks = text_splitter.split_documents(documents)\n",
    "    return text_chunks"
   ]
  },
  {
   "cell_type": "code",
   "execution_count": 7,
   "id": "a3520ed6",
   "metadata": {},
   "outputs": [
    {
     "name": "stdout",
     "output_type": "stream",
     "text": [
      "Number of text chunks: 82\n"
     ]
    }
   ],
   "source": [
    "text_chunks = text_splitter(extracted_data)\n",
    "print(f\"Number of text chunks: {len(text_chunks)}\")"
   ]
  },
  {
   "cell_type": "code",
   "execution_count": 8,
   "id": "06f31a4d",
   "metadata": {},
   "outputs": [
    {
     "data": {
      "text/plain": [
       "[Document(metadata={'producer': 'macOS Version 10.14.6 (Build 18G3020) Quartz PDFContext', 'creator': 'Adobe InDesign 15.0 (Macintosh)', 'creationdate': \"D:20210505131951Z00'00'\", 'author': 'Morgan Housel', 'moddate': \"D:20210505131951Z00'00'\", 'title': 'The Psychology of Money', 'source': '..\\\\Data\\\\money_book.pdf', 'total_pages': 32, 'page': 0, 'page_label': '1'}, page_content='Money\\nPsychology\\nof\\nThe'),\n",
       " Document(metadata={'producer': 'macOS Version 10.14.6 (Build 18G3020) Quartz PDFContext', 'creator': 'Adobe InDesign 15.0 (Macintosh)', 'creationdate': \"D:20210505131951Z00'00'\", 'author': 'Morgan Housel', 'moddate': \"D:20210505131951Z00'00'\", 'title': 'The Psychology of Money', 'source': '..\\\\Data\\\\money_book.pdf', 'total_pages': 32, 'page': 2, 'page_label': '3'}, page_content='MORGAN HOUSEL\\nTIMELESS LESSONS ON WEALTH, \\nGREED, AND HAPPINESS\\nMoney\\nPsychology\\nof\\nThe'),\n",
       " Document(metadata={'producer': 'macOS Version 10.14.6 (Build 18G3020) Quartz PDFContext', 'creator': 'Adobe InDesign 15.0 (Macintosh)', 'creationdate': \"D:20210505131951Z00'00'\", 'author': 'Morgan Housel', 'moddate': \"D:20210505131951Z00'00'\", 'title': 'The Psychology of Money', 'source': '..\\\\Data\\\\money_book.pdf', 'total_pages': 32, 'page': 3, 'page_label': '4'}, page_content='harriman house ltd\\n3 Viceroy Court\\nBedford Road \\nPetersfield \\nHampshire\\nGU32 3LJ\\nGREAT BRITAIN\\nTel: +44 (0)1730 233870\\nEmail: enquiries@harriman-house.com\\nWebsite: harriman.house\\nFirst published in 2020.\\nCopyright © Morgan Housel\\nThe right of Morgan Housel to be identified as the Author has been asserted in \\naccordance with the Copyright, Design and Patents Act 1988.\\nPaperback ISBN: 978-0-85719-768-9\\neBook ISBN: 978-0-85719-769-6\\nBritish Library Cataloguing in Publication Data'),\n",
       " Document(metadata={'producer': 'macOS Version 10.14.6 (Build 18G3020) Quartz PDFContext', 'creator': 'Adobe InDesign 15.0 (Macintosh)', 'creationdate': \"D:20210505131951Z00'00'\", 'author': 'Morgan Housel', 'moddate': \"D:20210505131951Z00'00'\", 'title': 'The Psychology of Money', 'source': '..\\\\Data\\\\money_book.pdf', 'total_pages': 32, 'page': 3, 'page_label': '4'}, page_content='A CIP catalogue record for this book can be obtained from the British Library.\\nAll rights reserved; no part of this publication may be reproduced, stored in a \\nretrieval system, or transmitted in any form or by any means, electronic, mechanical, \\nphotocopying, recording, or otherwise without the prior written permission of the \\nPublisher. This book may not be lent, resold, hired out or otherwise disposed of by'),\n",
       " Document(metadata={'producer': 'macOS Version 10.14.6 (Build 18G3020) Quartz PDFContext', 'creator': 'Adobe InDesign 15.0 (Macintosh)', 'creationdate': \"D:20210505131951Z00'00'\", 'author': 'Morgan Housel', 'moddate': \"D:20210505131951Z00'00'\", 'title': 'The Psychology of Money', 'source': '..\\\\Data\\\\money_book.pdf', 'total_pages': 32, 'page': 3, 'page_label': '4'}, page_content='way of trade in any form of binding or cover other than that in which it is published \\nwithout the prior written consent of the Publisher.\\nWhilst every effort has been made to ensure that information in this book is accurate, \\nno liability can be accepted for any loss incurred in any way whatsoever by any person \\nrelying solely on the information contained herein.\\nNo responsibility for loss occasioned to any person or corporate body acting or'),\n",
       " Document(metadata={'producer': 'macOS Version 10.14.6 (Build 18G3020) Quartz PDFContext', 'creator': 'Adobe InDesign 15.0 (Macintosh)', 'creationdate': \"D:20210505131951Z00'00'\", 'author': 'Morgan Housel', 'moddate': \"D:20210505131951Z00'00'\", 'title': 'The Psychology of Money', 'source': '..\\\\Data\\\\money_book.pdf', 'total_pages': 32, 'page': 3, 'page_label': '4'}, page_content='refraining to act as a result of reading material in this book can be accepted by the \\nPublisher, by the Author, or by the employers of the Author.'),\n",
       " Document(metadata={'producer': 'macOS Version 10.14.6 (Build 18G3020) Quartz PDFContext', 'creator': 'Adobe InDesign 15.0 (Macintosh)', 'creationdate': \"D:20210505131951Z00'00'\", 'author': 'Morgan Housel', 'moddate': \"D:20210505131951Z00'00'\", 'title': 'The Psychology of Money', 'source': '..\\\\Data\\\\money_book.pdf', 'total_pages': 32, 'page': 4, 'page_label': '5'}, page_content='For\\nMy parents, who teach me. \\nGretchen, who guides me. \\nMiles and Reese, who inspire me.'),\n",
       " Document(metadata={'producer': 'macOS Version 10.14.6 (Build 18G3020) Quartz PDFContext', 'creator': 'Adobe InDesign 15.0 (Macintosh)', 'creationdate': \"D:20210505131951Z00'00'\", 'author': 'Morgan Housel', 'moddate': \"D:20210505131951Z00'00'\", 'title': 'The Psychology of Money', 'source': '..\\\\Data\\\\money_book.pdf', 'total_pages': 32, 'page': 6, 'page_label': '7'}, page_content='V II\\n \\nContents\\nIntroduction: The Greatest Show On Earth 1\\n1. No One’s Crazy 9\\n2. Luck & Risk 23\\n3. Never Enough 35\\n4. Confounding Compounding 45\\n5. Getting Wealthy vs. Staying Wealthy 55\\n6. T ails, Y ou Win 69\\n7. Freedom  81\\n8. Man in the Car Paradox  91\\n9. Wealth is What Y ou Don’t See 95\\n10. Save Money 101\\n11. Reasonable > Rational 111\\n12. Surprise! 121\\n13. Room for Error 135\\n14. Y ou’ll Change 147\\n15. Nothing’s Free 155\\n16. Y ou & Me  165\\n17. The Seduction of Pessimism  175'),\n",
       " Document(metadata={'producer': 'macOS Version 10.14.6 (Build 18G3020) Quartz PDFContext', 'creator': 'Adobe InDesign 15.0 (Macintosh)', 'creationdate': \"D:20210505131951Z00'00'\", 'author': 'Morgan Housel', 'moddate': \"D:20210505131951Z00'00'\", 'title': 'The Psychology of Money', 'source': '..\\\\Data\\\\money_book.pdf', 'total_pages': 32, 'page': 7, 'page_label': '8'}, page_content='V III\\nTHE PSYCHOLOGY OF MONEY\\n18. When Y ou’ll Believe Anything 189\\n19. All T ogether Now  203\\n20. Confessions 211\\nPostscript: A Brief History of Why the U.S. Consumer \\nThinks the Way They Do 221\\nEndnotes  239\\nAcknowledgements  242'),\n",
       " Document(metadata={'producer': 'macOS Version 10.14.6 (Build 18G3020) Quartz PDFContext', 'creator': 'Adobe InDesign 15.0 (Macintosh)', 'creationdate': \"D:20210505131951Z00'00'\", 'author': 'Morgan Housel', 'moddate': \"D:20210505131951Z00'00'\", 'title': 'The Psychology of Money', 'source': '..\\\\Data\\\\money_book.pdf', 'total_pages': 32, 'page': 8, 'page_label': '9'}, page_content='“ A genius is the man who can do the average thing when \\neveryone else around him is losing his mind.”\\n—Napoleon\\n“The world is full of obvious things which nobody by any \\nchance ever observes.”\\n—Sherlock Holmes'),\n",
       " Document(metadata={'producer': 'macOS Version 10.14.6 (Build 18G3020) Quartz PDFContext', 'creator': 'Adobe InDesign 15.0 (Macintosh)', 'creationdate': \"D:20210505131951Z00'00'\", 'author': 'Morgan Housel', 'moddate': \"D:20210505131951Z00'00'\", 'title': 'The Psychology of Money', 'source': '..\\\\Data\\\\money_book.pdf', 'total_pages': 32, 'page': 10, 'page_label': '11'}, page_content='1\\n \\nINTRODUCTION:  \\nThe Greatest Show \\nOn Earth\\nI \\nspent my college  years working as a valet at a nice hotel \\nin Los Angeles. \\nOne frequent guest was a technology executive. He was a \\ngenius, having designed and patented a key component in Wi-Fi \\nrouters in his 20s. He had started and sold several companies. He \\nwas wildly successful. \\nHe also had a relationship with money I’d describe as a mix of \\ninsecurity and childish stupidity.'),\n",
       " Document(metadata={'producer': 'macOS Version 10.14.6 (Build 18G3020) Quartz PDFContext', 'creator': 'Adobe InDesign 15.0 (Macintosh)', 'creationdate': \"D:20210505131951Z00'00'\", 'author': 'Morgan Housel', 'moddate': \"D:20210505131951Z00'00'\", 'title': 'The Psychology of Money', 'source': '..\\\\Data\\\\money_book.pdf', 'total_pages': 32, 'page': 10, 'page_label': '11'}, page_content='He carried a stack of hundred dollar bills several inches thick. \\nHe showed it to everyone who wanted to see it and many who \\ndidn’t. He bragged openly and loudly about his wealth, often \\nwhile drunk and always apropos of nothing. \\nOne day he handed one of my colleagues several thousand \\ndollars of cash and said, “Go to the jewelry store down the street \\nand get me a few $1,000 gold coins.”\\nAn hour later, gold coins in hand, the tech executive and his'),\n",
       " Document(metadata={'producer': 'macOS Version 10.14.6 (Build 18G3020) Quartz PDFContext', 'creator': 'Adobe InDesign 15.0 (Macintosh)', 'creationdate': \"D:20210505131951Z00'00'\", 'author': 'Morgan Housel', 'moddate': \"D:20210505131951Z00'00'\", 'title': 'The Psychology of Money', 'source': '..\\\\Data\\\\money_book.pdf', 'total_pages': 32, 'page': 10, 'page_label': '11'}, page_content='buddies gathered around by a dock overlooking the Pacific Ocean. \\nThey then proceeded to throw the coins into the sea, skipping them \\nlike rocks, cackling as they argued whose went furthest. Just for fun. \\nDays later he shattered a lamp in the hotel’s restaurant. A \\nmanager told him it was a $500 lamp and he’d have to replace it.'),\n",
       " Document(metadata={'producer': 'macOS Version 10.14.6 (Build 18G3020) Quartz PDFContext', 'creator': 'Adobe InDesign 15.0 (Macintosh)', 'creationdate': \"D:20210505131951Z00'00'\", 'author': 'Morgan Housel', 'moddate': \"D:20210505131951Z00'00'\", 'title': 'The Psychology of Money', 'source': '..\\\\Data\\\\money_book.pdf', 'total_pages': 32, 'page': 11, 'page_label': '12'}, page_content='2\\nTHE PSYCHOLOGY OF MONEY\\n“You want five hundred dollars?” the executive asked \\nincredulously, while pulling a brick of cash from his pocket and \\nhanding it to the manager. “Here’s five thousand dollars. Now get \\nout of my face. And don’t ever insult me like that again.” \\nYou may wonder how long this behavior could last, and the \\nanswer was “not long.” I learned years later that he went broke. \\nThe premise of this book is that doing well with money has a'),\n",
       " Document(metadata={'producer': 'macOS Version 10.14.6 (Build 18G3020) Quartz PDFContext', 'creator': 'Adobe InDesign 15.0 (Macintosh)', 'creationdate': \"D:20210505131951Z00'00'\", 'author': 'Morgan Housel', 'moddate': \"D:20210505131951Z00'00'\", 'title': 'The Psychology of Money', 'source': '..\\\\Data\\\\money_book.pdf', 'total_pages': 32, 'page': 11, 'page_label': '12'}, page_content='little to do with how smart you are and a lot to do with how you \\nbehave. And behavior is hard to teach, even to really smart people. \\nA genius who loses control of their emotions can be a financial \\ndisaster. The opposite is also true. Ordinary folks with no financial \\neducation can be wealthy if they have a handful of behavioral skills \\nthat have nothing to do with formal measures of intelligence. \\n***\\nMy favorite Wikipedia entry begins: “Ronald James Read was'),\n",
       " Document(metadata={'producer': 'macOS Version 10.14.6 (Build 18G3020) Quartz PDFContext', 'creator': 'Adobe InDesign 15.0 (Macintosh)', 'creationdate': \"D:20210505131951Z00'00'\", 'author': 'Morgan Housel', 'moddate': \"D:20210505131951Z00'00'\", 'title': 'The Psychology of Money', 'source': '..\\\\Data\\\\money_book.pdf', 'total_pages': 32, 'page': 11, 'page_label': '12'}, page_content='an American philanthropist, investor, janitor, and gas station \\nattendant.”\\nRonald Read was born in rural Vermont. He was the first \\nperson in his family to graduate high school, made all the more \\nimpressive by the fact that he hitchhiked to campus each day. \\nFor those who knew Ronald Read, there wasn’t much else \\nworth mentioning. His life was about as low key as they come.  \\nRead fixed cars at a gas station for 25 years and swept floors'),\n",
       " Document(metadata={'producer': 'macOS Version 10.14.6 (Build 18G3020) Quartz PDFContext', 'creator': 'Adobe InDesign 15.0 (Macintosh)', 'creationdate': \"D:20210505131951Z00'00'\", 'author': 'Morgan Housel', 'moddate': \"D:20210505131951Z00'00'\", 'title': 'The Psychology of Money', 'source': '..\\\\Data\\\\money_book.pdf', 'total_pages': 32, 'page': 11, 'page_label': '12'}, page_content='at JCPenney for 17 years. He bought a two-bedroom house for \\n$12,000 at age 38 and lived there for the rest of his life. He was \\nwidowed at age 50 and never remarried. A friend recalled that his \\nmain hobby was chopping firewood. \\nRead died in 2014, age 92. Which is when the humble rural \\njanitor made international headlines. \\n2,813,503 Americans died in 2014. Fewer than 4,000 of them \\nhad a net worth of over $8 million when they passed away. Ronald \\nRead was one of them.'),\n",
       " Document(metadata={'producer': 'macOS Version 10.14.6 (Build 18G3020) Quartz PDFContext', 'creator': 'Adobe InDesign 15.0 (Macintosh)', 'creationdate': \"D:20210505131951Z00'00'\", 'author': 'Morgan Housel', 'moddate': \"D:20210505131951Z00'00'\", 'title': 'The Psychology of Money', 'source': '..\\\\Data\\\\money_book.pdf', 'total_pages': 32, 'page': 12, 'page_label': '13'}, page_content='3\\n \\nIn his will the former janitor left $2 million to his stepkids and \\nmore than $6 million to his local hospital and library. \\nThose who knew Read were baffled. Where did he get all that \\nmoney? \\nIt turned out there was no secret. There was no lottery win and \\nno inheritance. Read saved what little he could and invested it \\nin blue chip stocks. Then he waited, for decades on end, as tiny \\nsavings compounded into more than $8 million. \\nThat’s it. From janitor to philanthropist.'),\n",
       " Document(metadata={'producer': 'macOS Version 10.14.6 (Build 18G3020) Quartz PDFContext', 'creator': 'Adobe InDesign 15.0 (Macintosh)', 'creationdate': \"D:20210505131951Z00'00'\", 'author': 'Morgan Housel', 'moddate': \"D:20210505131951Z00'00'\", 'title': 'The Psychology of Money', 'source': '..\\\\Data\\\\money_book.pdf', 'total_pages': 32, 'page': 12, 'page_label': '13'}, page_content='A few months before Ronald Read died, another man named \\nRichard was in the news. \\nRichard Fuscone was everything Ronald Read was not. A \\nHarvard-educated Merrill Lynch executive with an MBA, \\nFuscone had such a successful career in finance that he retired \\nin his 40s to become a philanthropist. Former Merrill CEO \\nDavid Komansky praised Fuscone’s “business savvy, leadership \\nskills, sound judgment and personal integrity.” 1 Crain’s business'),\n",
       " Document(metadata={'producer': 'macOS Version 10.14.6 (Build 18G3020) Quartz PDFContext', 'creator': 'Adobe InDesign 15.0 (Macintosh)', 'creationdate': \"D:20210505131951Z00'00'\", 'author': 'Morgan Housel', 'moddate': \"D:20210505131951Z00'00'\", 'title': 'The Psychology of Money', 'source': '..\\\\Data\\\\money_book.pdf', 'total_pages': 32, 'page': 12, 'page_label': '13'}, page_content='magazine once included him in a “40 under 40” list of successful \\nbusinesspeople.2\\nBut then—like the gold-coin-skipping tech executive—\\neverything fell apart. \\nIn the mid-2000s Fuscone borrowed heavily to expand an \\n18,000-square foot home in Greenwich, Connecticut that had 11 \\nbathrooms, two elevators, two pools, seven garages, and cost more \\nthan $90,000 a month to maintain. \\nThen the 2008 financial crisis hit. \\nThe crisis hurt virtually everyone’s finances. It apparently'),\n",
       " Document(metadata={'producer': 'macOS Version 10.14.6 (Build 18G3020) Quartz PDFContext', 'creator': 'Adobe InDesign 15.0 (Macintosh)', 'creationdate': \"D:20210505131951Z00'00'\", 'author': 'Morgan Housel', 'moddate': \"D:20210505131951Z00'00'\", 'title': 'The Psychology of Money', 'source': '..\\\\Data\\\\money_book.pdf', 'total_pages': 32, 'page': 12, 'page_label': '13'}, page_content='turned Fuscone’s into dust. High debt and illiquid assets left \\nhim bankrupt. “I currently have no income,” he allegedly told a \\nbankruptcy judge in 2008. \\nFirst his Palm Beach house was foreclosed. \\nIn 2014 it was the Greenwich mansion’s turn. \\nFive months before Ronald Read left his fortune to charity, \\n INTRODUCTION'),\n",
       " Document(metadata={'producer': 'macOS Version 10.14.6 (Build 18G3020) Quartz PDFContext', 'creator': 'Adobe InDesign 15.0 (Macintosh)', 'creationdate': \"D:20210505131951Z00'00'\", 'author': 'Morgan Housel', 'moddate': \"D:20210505131951Z00'00'\", 'title': 'The Psychology of Money', 'source': '..\\\\Data\\\\money_book.pdf', 'total_pages': 32, 'page': 13, 'page_label': '14'}, page_content='4\\nTHE PSYCHOLOGY OF MONEY\\nRichard Fuscone’s home—where guests recalled the “thrill of \\ndining and dancing atop a see-through covering on the home’s \\nindoor swimming pool”—was sold in a foreclosure auction for \\n75% less than an insurance company figured it was worth.3\\nRonald Read was patient; Richard Fuscone was greedy. That’s \\nall it took to eclipse the massive education and experience gap \\nbetween the two. \\nThe lesson here is not to be more like Ronald and less like'),\n",
       " Document(metadata={'producer': 'macOS Version 10.14.6 (Build 18G3020) Quartz PDFContext', 'creator': 'Adobe InDesign 15.0 (Macintosh)', 'creationdate': \"D:20210505131951Z00'00'\", 'author': 'Morgan Housel', 'moddate': \"D:20210505131951Z00'00'\", 'title': 'The Psychology of Money', 'source': '..\\\\Data\\\\money_book.pdf', 'total_pages': 32, 'page': 13, 'page_label': '14'}, page_content='Richard—though that’s not bad advice.  \\nThe fascinating thing about these stories is how unique they \\nare to finance. \\nIn what other industry does someone with no college \\ndegree, no training, no background, no formal experience, and \\nno connections massively outperform someone with the best \\neducation, the best training, and the best connections? \\nI struggle to think of any.  \\nIt is impossible to think of a story about Ronald Read \\nperforming a heart transplant better than a Harvard-trained'),\n",
       " Document(metadata={'producer': 'macOS Version 10.14.6 (Build 18G3020) Quartz PDFContext', 'creator': 'Adobe InDesign 15.0 (Macintosh)', 'creationdate': \"D:20210505131951Z00'00'\", 'author': 'Morgan Housel', 'moddate': \"D:20210505131951Z00'00'\", 'title': 'The Psychology of Money', 'source': '..\\\\Data\\\\money_book.pdf', 'total_pages': 32, 'page': 13, 'page_label': '14'}, page_content='surgeon. Or designing a skyscraper superior to the best-trained \\narchitects. There will never be a story of a janitor outperforming \\nthe world’s top nuclear engineers. \\nBut these stories do happen in investing.\\nThe fact that Ronald Read can coexist with Richard Fuscone \\nhas two explanations. One, financial outcomes are driven by luck, \\nindependent of intelligence and effort. That’s true to some extent, \\nand this book will discuss it in further detail. Or, two (and I think'),\n",
       " Document(metadata={'producer': 'macOS Version 10.14.6 (Build 18G3020) Quartz PDFContext', 'creator': 'Adobe InDesign 15.0 (Macintosh)', 'creationdate': \"D:20210505131951Z00'00'\", 'author': 'Morgan Housel', 'moddate': \"D:20210505131951Z00'00'\", 'title': 'The Psychology of Money', 'source': '..\\\\Data\\\\money_book.pdf', 'total_pages': 32, 'page': 13, 'page_label': '14'}, page_content='more common), that financial success is not a hard science. It’s a soft \\nskill, where how you behave is more important than what you know. \\nI call this soft skill the psychology of money. The aim of this \\nbook is to use short stories to convince you that soft skills are \\nmore important than the technical side of money. I’ll do this in a \\nway that will help everyone—from Read to Fuscone and everyone \\nin between—make better financial decisions.'),\n",
       " Document(metadata={'producer': 'macOS Version 10.14.6 (Build 18G3020) Quartz PDFContext', 'creator': 'Adobe InDesign 15.0 (Macintosh)', 'creationdate': \"D:20210505131951Z00'00'\", 'author': 'Morgan Housel', 'moddate': \"D:20210505131951Z00'00'\", 'title': 'The Psychology of Money', 'source': '..\\\\Data\\\\money_book.pdf', 'total_pages': 32, 'page': 14, 'page_label': '15'}, page_content='5\\n INTRODUCTION\\nThese soft skills are, I’ve come to realize, greatly underappreciated. \\nFinance is overwhelmingly taught as a math-based field, where \\nyou put data into a formula and the formula tells you what to do, \\nand it’s assumed that you’ll just go do it. \\nThis is true in personal finance, where you’re told to have a six-\\nmonth emergency fund and save 10% of your salary. \\nIt’s true in investing, where we know the exact historical \\ncorrelations between interest rates and valuations.'),\n",
       " Document(metadata={'producer': 'macOS Version 10.14.6 (Build 18G3020) Quartz PDFContext', 'creator': 'Adobe InDesign 15.0 (Macintosh)', 'creationdate': \"D:20210505131951Z00'00'\", 'author': 'Morgan Housel', 'moddate': \"D:20210505131951Z00'00'\", 'title': 'The Psychology of Money', 'source': '..\\\\Data\\\\money_book.pdf', 'total_pages': 32, 'page': 14, 'page_label': '15'}, page_content='And it’s true in corporate finance, where CFOs can measure \\nthe precise cost of capital. \\nIt’s not that any of these things are bad or wrong. It’s that \\nknowing what to do tells you nothing about what happens in \\nyour head when you try to do it. \\n***\\nTwo topics impact everyone, whether you are interested in them \\nor not: health and money. \\nThe health care industry is a triumph of modern science, with \\nrising life expectancy across the world. Scientific discoveries have'),\n",
       " Document(metadata={'producer': 'macOS Version 10.14.6 (Build 18G3020) Quartz PDFContext', 'creator': 'Adobe InDesign 15.0 (Macintosh)', 'creationdate': \"D:20210505131951Z00'00'\", 'author': 'Morgan Housel', 'moddate': \"D:20210505131951Z00'00'\", 'title': 'The Psychology of Money', 'source': '..\\\\Data\\\\money_book.pdf', 'total_pages': 32, 'page': 14, 'page_label': '15'}, page_content='replaced doctors’ old ideas about how the human body works, and \\nvirtually everyone is healthier because of it.  \\nThe money industry—investing, personal finance, business \\nplanning—is another story. \\nFinance has scooped up the smartest minds coming from top \\nuniversities over the last two decades. Financial Engineering was \\nthe most popular major in Princeton’s School of Engineering a \\ndecade ago. Is there any evidence it has made us better investors? \\nI have seen none.'),\n",
       " Document(metadata={'producer': 'macOS Version 10.14.6 (Build 18G3020) Quartz PDFContext', 'creator': 'Adobe InDesign 15.0 (Macintosh)', 'creationdate': \"D:20210505131951Z00'00'\", 'author': 'Morgan Housel', 'moddate': \"D:20210505131951Z00'00'\", 'title': 'The Psychology of Money', 'source': '..\\\\Data\\\\money_book.pdf', 'total_pages': 32, 'page': 14, 'page_label': '15'}, page_content='I have seen none. \\nThrough collective trial and error over the years we learned \\nhow to become better farmers, skilled plumbers, and advanced \\nchemists. But has trial and error taught us to become better with \\nour personal finances? Are we less likely to bury ourselves in \\ndebt? More likely to save for a rainy day? Prepare for retirement?'),\n",
       " Document(metadata={'producer': 'macOS Version 10.14.6 (Build 18G3020) Quartz PDFContext', 'creator': 'Adobe InDesign 15.0 (Macintosh)', 'creationdate': \"D:20210505131951Z00'00'\", 'author': 'Morgan Housel', 'moddate': \"D:20210505131951Z00'00'\", 'title': 'The Psychology of Money', 'source': '..\\\\Data\\\\money_book.pdf', 'total_pages': 32, 'page': 15, 'page_label': '16'}, page_content='6\\nTHE PSYCHOLOGY OF MONEY\\nHave realistic views about what money does, and doesn’t do, to \\nour happiness?\\nI’ve seen no compelling evidence. \\nMost of the reason why, I believe, is that we think about and \\nare taught about money in ways that are too much like physics \\n(with rules and laws) and not enough like psychology (with \\nemotions and nuance). \\nAnd that, to me, is as fascinating as it is important. \\nMoney is everywhere, it affects all of us, and confuses most of'),\n",
       " Document(metadata={'producer': 'macOS Version 10.14.6 (Build 18G3020) Quartz PDFContext', 'creator': 'Adobe InDesign 15.0 (Macintosh)', 'creationdate': \"D:20210505131951Z00'00'\", 'author': 'Morgan Housel', 'moddate': \"D:20210505131951Z00'00'\", 'title': 'The Psychology of Money', 'source': '..\\\\Data\\\\money_book.pdf', 'total_pages': 32, 'page': 15, 'page_label': '16'}, page_content='us. Everyone thinks about it a little differently. It offers lessons \\non things that apply to many areas of life, like risk, confidence, \\nand happiness. Few topics offer a more powerful magnifying \\nglass that helps explain why people behave the way they do than \\nmoney. It is one of the greatest shows on Earth.\\nMy own appreciation for the psychology of money is shaped \\nby more than a decade of writing on the topic. I began writing'),\n",
       " Document(metadata={'producer': 'macOS Version 10.14.6 (Build 18G3020) Quartz PDFContext', 'creator': 'Adobe InDesign 15.0 (Macintosh)', 'creationdate': \"D:20210505131951Z00'00'\", 'author': 'Morgan Housel', 'moddate': \"D:20210505131951Z00'00'\", 'title': 'The Psychology of Money', 'source': '..\\\\Data\\\\money_book.pdf', 'total_pages': 32, 'page': 15, 'page_label': '16'}, page_content='about finance in early 2008. It was the dawn of a financial crisis \\nand the worst recession in 80 years. \\nTo write about what was happening, I wanted to figure out what \\nwas happening. But the first thing I learned after the financial \\ncrisis was that no one could accurately explain what happened, \\nor why it happened, let alone what should be done about it. For \\nevery good explanation there was an equally convincing rebuttal. \\nEngineers can determine the cause of a bridge collapse because'),\n",
       " Document(metadata={'producer': 'macOS Version 10.14.6 (Build 18G3020) Quartz PDFContext', 'creator': 'Adobe InDesign 15.0 (Macintosh)', 'creationdate': \"D:20210505131951Z00'00'\", 'author': 'Morgan Housel', 'moddate': \"D:20210505131951Z00'00'\", 'title': 'The Psychology of Money', 'source': '..\\\\Data\\\\money_book.pdf', 'total_pages': 32, 'page': 15, 'page_label': '16'}, page_content='there’s agreement that if a certain amount of force is applied to \\na certain area, that area will break. Physics isn’t controversial. \\nIt’s guided by laws. Finance is different. It’s guided by people’s \\nbehaviors. And how I behave might make sense to me but look \\ncrazy to you. \\nThe more I studied and wrote about the financial crisis, the \\nmore I realized that you could understand it better through the \\nlenses of psychology and history, not finance.'),\n",
       " Document(metadata={'producer': 'macOS Version 10.14.6 (Build 18G3020) Quartz PDFContext', 'creator': 'Adobe InDesign 15.0 (Macintosh)', 'creationdate': \"D:20210505131951Z00'00'\", 'author': 'Morgan Housel', 'moddate': \"D:20210505131951Z00'00'\", 'title': 'The Psychology of Money', 'source': '..\\\\Data\\\\money_book.pdf', 'total_pages': 32, 'page': 15, 'page_label': '16'}, page_content='To grasp why people bury themselves in debt you don’t need'),\n",
       " Document(metadata={'producer': 'macOS Version 10.14.6 (Build 18G3020) Quartz PDFContext', 'creator': 'Adobe InDesign 15.0 (Macintosh)', 'creationdate': \"D:20210505131951Z00'00'\", 'author': 'Morgan Housel', 'moddate': \"D:20210505131951Z00'00'\", 'title': 'The Psychology of Money', 'source': '..\\\\Data\\\\money_book.pdf', 'total_pages': 32, 'page': 16, 'page_label': '17'}, page_content='7\\n INTRODUCTION\\nto study interest rates; you need to study the history of greed, \\ninsecurity, and optimism. To get why investors sell out at the \\nbottom of a bear market you don’t need to study the math of \\nexpected future returns; you need to think about the agony of \\nlooking at your family and wondering if your investments are \\nimperiling their future. \\nI love Voltaire’s observation that “History never repeats itself; \\nman always does.” It applies so well to how we behave with money.'),\n",
       " Document(metadata={'producer': 'macOS Version 10.14.6 (Build 18G3020) Quartz PDFContext', 'creator': 'Adobe InDesign 15.0 (Macintosh)', 'creationdate': \"D:20210505131951Z00'00'\", 'author': 'Morgan Housel', 'moddate': \"D:20210505131951Z00'00'\", 'title': 'The Psychology of Money', 'source': '..\\\\Data\\\\money_book.pdf', 'total_pages': 32, 'page': 16, 'page_label': '17'}, page_content='In 2018, I wrote a report outlining 20 of the most important \\nflaws, biases, and causes of bad behavior I’ve seen affect people \\nwhen dealing with money. It was called The Psychology of Money, \\nand over one million people have read it. This book is a deeper \\ndive into the topic. Some short passages from the report appear \\nunaltered in this book. \\nWhat you’re holding is 20 chapters, each describing what I \\nconsider to be the most important and often counterintuitive'),\n",
       " Document(metadata={'producer': 'macOS Version 10.14.6 (Build 18G3020) Quartz PDFContext', 'creator': 'Adobe InDesign 15.0 (Macintosh)', 'creationdate': \"D:20210505131951Z00'00'\", 'author': 'Morgan Housel', 'moddate': \"D:20210505131951Z00'00'\", 'title': 'The Psychology of Money', 'source': '..\\\\Data\\\\money_book.pdf', 'total_pages': 32, 'page': 16, 'page_label': '17'}, page_content='features of the psychology of money. The chapters revolve \\naround a common theme, but exist on their own and can be read \\nindependently.\\nIt’s not a long book. You’re welcome. Most readers don’t finish \\nthe books they begin because most single topics don’t require 300 \\npages of explanation. I’d rather make 20 short points you finish \\nthan one long one you give up on. \\nOn we go.'),\n",
       " Document(metadata={'producer': 'macOS Version 10.14.6 (Build 18G3020) Quartz PDFContext', 'creator': 'Adobe InDesign 15.0 (Macintosh)', 'creationdate': \"D:20210505131951Z00'00'\", 'author': 'Morgan Housel', 'moddate': \"D:20210505131951Z00'00'\", 'title': 'The Psychology of Money', 'source': '..\\\\Data\\\\money_book.pdf', 'total_pages': 32, 'page': 18, 'page_label': '19'}, page_content='1.  \\nNo One’ s \\nCrazy\\nYour personal experiences with money \\nmake up maybe 0.00000001% of what’s \\nhappened in the world, but maybe 80% of \\nhow you think the world works.'),\n",
       " Document(metadata={'producer': 'macOS Version 10.14.6 (Build 18G3020) Quartz PDFContext', 'creator': 'Adobe InDesign 15.0 (Macintosh)', 'creationdate': \"D:20210505131951Z00'00'\", 'author': 'Morgan Housel', 'moddate': \"D:20210505131951Z00'00'\", 'title': 'The Psychology of Money', 'source': '..\\\\Data\\\\money_book.pdf', 'total_pages': 32, 'page': 20, 'page_label': '21'}, page_content='11\\n1. N O  O NE ’S  C RA Z Y \\nL\\net me tell  you about a problem. It might make you \\nfeel better about what you do with your money, and less \\njudgmental about what other people do with theirs. \\nPeople do some crazy things with money. But no one is crazy. \\nHere’s the thing: People from different generations, raised by \\ndifferent parents who earned different incomes and held different \\nvalues, in different parts of the world, born into different economies,'),\n",
       " Document(metadata={'producer': 'macOS Version 10.14.6 (Build 18G3020) Quartz PDFContext', 'creator': 'Adobe InDesign 15.0 (Macintosh)', 'creationdate': \"D:20210505131951Z00'00'\", 'author': 'Morgan Housel', 'moddate': \"D:20210505131951Z00'00'\", 'title': 'The Psychology of Money', 'source': '..\\\\Data\\\\money_book.pdf', 'total_pages': 32, 'page': 20, 'page_label': '21'}, page_content='experiencing different job markets with different incentives and \\ndifferent degrees of luck, learn very different lessons. \\nEveryone has their own unique experience with how the world \\nworks. And what you’ve experienced is more compelling than \\nwhat you learn second-hand. So all of us—you, me, everyone—go \\nthrough life anchored to a set of views about how money works \\nthat vary wildly from person to person. What seems crazy to you \\nmight make sense to me.'),\n",
       " Document(metadata={'producer': 'macOS Version 10.14.6 (Build 18G3020) Quartz PDFContext', 'creator': 'Adobe InDesign 15.0 (Macintosh)', 'creationdate': \"D:20210505131951Z00'00'\", 'author': 'Morgan Housel', 'moddate': \"D:20210505131951Z00'00'\", 'title': 'The Psychology of Money', 'source': '..\\\\Data\\\\money_book.pdf', 'total_pages': 32, 'page': 20, 'page_label': '21'}, page_content='The person who grew up in poverty thinks about risk and \\nreward in ways the child of a wealthy banker cannot fathom if \\nhe tried. \\nThe person who grew up when inflation was high experienced \\nsomething the person who grew up with stable prices never had to. \\nThe stock broker who lost everything during the Great \\nDepression experienced something the tech worker basking in \\nthe glory of the late 1990s can’t imagine. \\nThe Australian who hasn’t seen a recession in 30 years has'),\n",
       " Document(metadata={'producer': 'macOS Version 10.14.6 (Build 18G3020) Quartz PDFContext', 'creator': 'Adobe InDesign 15.0 (Macintosh)', 'creationdate': \"D:20210505131951Z00'00'\", 'author': 'Morgan Housel', 'moddate': \"D:20210505131951Z00'00'\", 'title': 'The Psychology of Money', 'source': '..\\\\Data\\\\money_book.pdf', 'total_pages': 32, 'page': 20, 'page_label': '21'}, page_content='experienced something no American ever has.'),\n",
       " Document(metadata={'producer': 'macOS Version 10.14.6 (Build 18G3020) Quartz PDFContext', 'creator': 'Adobe InDesign 15.0 (Macintosh)', 'creationdate': \"D:20210505131951Z00'00'\", 'author': 'Morgan Housel', 'moddate': \"D:20210505131951Z00'00'\", 'title': 'The Psychology of Money', 'source': '..\\\\Data\\\\money_book.pdf', 'total_pages': 32, 'page': 21, 'page_label': '22'}, page_content='12\\nTHE PSYCHOLOGY OF MONEY\\nOn and on. The list of experiences is endless. \\nYou know stuff about money that I don’t, and vice versa. You \\ngo through life with different beliefs, goals, and forecasts, than I \\ndo. That’s not because one of us is smarter than the other, or has \\nbetter information. It’s because we’ve had different lives shaped \\nby different and equally persuasive experiences. \\nYour personal experiences with money make up maybe'),\n",
       " Document(metadata={'producer': 'macOS Version 10.14.6 (Build 18G3020) Quartz PDFContext', 'creator': 'Adobe InDesign 15.0 (Macintosh)', 'creationdate': \"D:20210505131951Z00'00'\", 'author': 'Morgan Housel', 'moddate': \"D:20210505131951Z00'00'\", 'title': 'The Psychology of Money', 'source': '..\\\\Data\\\\money_book.pdf', 'total_pages': 32, 'page': 21, 'page_label': '22'}, page_content='0.00000001% of what’s happened in the world, but maybe 80% \\nof how you think the world works. So equally smart people can \\ndisagree about how and why recessions happen, how you should \\ninvest your money, what you should prioritize, how much risk you \\nshould take, and so on. \\nIn his book on 1930s America, Frederick Lewis Allen wrote \\nthat the Great Depression “marked millions of Americans—\\ninwardly—for the rest of their lives.” But there was a range'),\n",
       " Document(metadata={'producer': 'macOS Version 10.14.6 (Build 18G3020) Quartz PDFContext', 'creator': 'Adobe InDesign 15.0 (Macintosh)', 'creationdate': \"D:20210505131951Z00'00'\", 'author': 'Morgan Housel', 'moddate': \"D:20210505131951Z00'00'\", 'title': 'The Psychology of Money', 'source': '..\\\\Data\\\\money_book.pdf', 'total_pages': 32, 'page': 21, 'page_label': '22'}, page_content='of experiences. Twenty-five years later, as he was running for \\npresident, John F. Kennedy was asked by a reporter what he \\nremembered from the Depression. He remarked: \\nI have no first-hand knowledge of the Depression. My family \\nhad one of the great fortunes of the world and it was worth \\nmore than ever then. We had bigger houses, more servants, \\nwe traveled more. About the only thing that I saw directly \\nwas when my father hired some extra gardeners just to give'),\n",
       " Document(metadata={'producer': 'macOS Version 10.14.6 (Build 18G3020) Quartz PDFContext', 'creator': 'Adobe InDesign 15.0 (Macintosh)', 'creationdate': \"D:20210505131951Z00'00'\", 'author': 'Morgan Housel', 'moddate': \"D:20210505131951Z00'00'\", 'title': 'The Psychology of Money', 'source': '..\\\\Data\\\\money_book.pdf', 'total_pages': 32, 'page': 21, 'page_label': '22'}, page_content='them a job so they could eat. I really did not learn about the \\nDepression until I read about it at Harvard.\\nThis was a major point in the 1960 election. How, people thought, \\ncould someone with no understanding of the biggest economic \\nstory of the last generation be put in charge of the economy? It \\nwas, in many ways, overcome only by JFK’s experience in World \\nWar II. That was the other most widespread emotional experience \\nof the previous generation, and something his primary opponent,'),\n",
       " Document(metadata={'producer': 'macOS Version 10.14.6 (Build 18G3020) Quartz PDFContext', 'creator': 'Adobe InDesign 15.0 (Macintosh)', 'creationdate': \"D:20210505131951Z00'00'\", 'author': 'Morgan Housel', 'moddate': \"D:20210505131951Z00'00'\", 'title': 'The Psychology of Money', 'source': '..\\\\Data\\\\money_book.pdf', 'total_pages': 32, 'page': 21, 'page_label': '22'}, page_content='Hubert Humphrey, didn’t have.'),\n",
       " Document(metadata={'producer': 'macOS Version 10.14.6 (Build 18G3020) Quartz PDFContext', 'creator': 'Adobe InDesign 15.0 (Macintosh)', 'creationdate': \"D:20210505131951Z00'00'\", 'author': 'Morgan Housel', 'moddate': \"D:20210505131951Z00'00'\", 'title': 'The Psychology of Money', 'source': '..\\\\Data\\\\money_book.pdf', 'total_pages': 32, 'page': 22, 'page_label': '23'}, page_content='13\\n1. N O  O NE ’S  C RA Z Y \\nThe challenge for us is that no amount of studying or open-\\nmindedness can genuinely recreate the power of fear and \\nuncertainty.  \\nI can read about what it was like to lose everything during \\nthe Great Depression. But I don’t have the emotional scars of \\nthose who actually experienced it. And the person who lived \\nthrough it can’t fathom why someone like me could come across \\nas complacent about things like owning stocks. We see the world'),\n",
       " Document(metadata={'producer': 'macOS Version 10.14.6 (Build 18G3020) Quartz PDFContext', 'creator': 'Adobe InDesign 15.0 (Macintosh)', 'creationdate': \"D:20210505131951Z00'00'\", 'author': 'Morgan Housel', 'moddate': \"D:20210505131951Z00'00'\", 'title': 'The Psychology of Money', 'source': '..\\\\Data\\\\money_book.pdf', 'total_pages': 32, 'page': 22, 'page_label': '23'}, page_content='through a different lens. \\nSpreadsheets can model the historic frequency of big stock \\nmarket declines. But they can’t model the feeling of coming home, \\nlooking at your kids, and wondering if you’ve made a mistake \\nthat will impact their lives. Studying history makes you feel like \\nyou understand something. But until you’ve lived through it \\nand personally felt its consequences, you may not understand it \\nenough to change your behavior.'),\n",
       " Document(metadata={'producer': 'macOS Version 10.14.6 (Build 18G3020) Quartz PDFContext', 'creator': 'Adobe InDesign 15.0 (Macintosh)', 'creationdate': \"D:20210505131951Z00'00'\", 'author': 'Morgan Housel', 'moddate': \"D:20210505131951Z00'00'\", 'title': 'The Psychology of Money', 'source': '..\\\\Data\\\\money_book.pdf', 'total_pages': 32, 'page': 22, 'page_label': '23'}, page_content='We all think we know how the world works. But we’ve all only \\nexperienced a tiny sliver of it. \\nAs investor Michael Batnick says, “some lessons have to be \\nexperienced before they can be understood.” We are all victims, \\nin different ways, to that truth. \\n***\\nIn 2006 economists Ulrike Malmendier and Stefan Nagel from \\nthe National Bureau of Economic Research dug through 50 years \\nof the Survey of Consumer Finances—a detailed look at what \\nAmericans do with their money.4'),\n",
       " Document(metadata={'producer': 'macOS Version 10.14.6 (Build 18G3020) Quartz PDFContext', 'creator': 'Adobe InDesign 15.0 (Macintosh)', 'creationdate': \"D:20210505131951Z00'00'\", 'author': 'Morgan Housel', 'moddate': \"D:20210505131951Z00'00'\", 'title': 'The Psychology of Money', 'source': '..\\\\Data\\\\money_book.pdf', 'total_pages': 32, 'page': 22, 'page_label': '23'}, page_content='In theory people should make investment decisions based \\non their goals and the characteristics of the investment options \\navailable to them at the time. \\nBut that’s not what people do. \\nThe economists found that people’s lifetime investment \\ndecisions are heavily anchored to the experiences those investors'),\n",
       " Document(metadata={'producer': 'macOS Version 10.14.6 (Build 18G3020) Quartz PDFContext', 'creator': 'Adobe InDesign 15.0 (Macintosh)', 'creationdate': \"D:20210505131951Z00'00'\", 'author': 'Morgan Housel', 'moddate': \"D:20210505131951Z00'00'\", 'title': 'The Psychology of Money', 'source': '..\\\\Data\\\\money_book.pdf', 'total_pages': 32, 'page': 23, 'page_label': '24'}, page_content='14\\nTHE PSYCHOLOGY OF MONEY\\nhad in their own generation—especially experiences early in their \\nadult life.\\nIf you grew up when inflation was high, you invested less of \\nyour money in bonds later in life compared to those who grew \\nup when inflation was low. If you happened to grow up when \\nthe stock market was strong, you invested more of your money in \\nstocks later in life compared to those who grew up when stocks \\nwere weak. \\nThe economists wrote: “Our findings suggest that individual'),\n",
       " Document(metadata={'producer': 'macOS Version 10.14.6 (Build 18G3020) Quartz PDFContext', 'creator': 'Adobe InDesign 15.0 (Macintosh)', 'creationdate': \"D:20210505131951Z00'00'\", 'author': 'Morgan Housel', 'moddate': \"D:20210505131951Z00'00'\", 'title': 'The Psychology of Money', 'source': '..\\\\Data\\\\money_book.pdf', 'total_pages': 32, 'page': 23, 'page_label': '24'}, page_content='investors’ willingness to bear risk depends on personal history.”\\nNot intelligence, or education, or sophistication. Just the dumb \\nluck of when and where you were born. \\nThe Financial Times interviewed Bill Gross, the famed bond \\nmanager, in 2019. “Gross admits that he would probably not be \\nwhere he is today if he had been born a decade earlier or later,” \\nthe piece said. Gross’s career coincided almost perfectly with a \\ngenerational collapse in interest rates that gave bond prices a'),\n",
       " Document(metadata={'producer': 'macOS Version 10.14.6 (Build 18G3020) Quartz PDFContext', 'creator': 'Adobe InDesign 15.0 (Macintosh)', 'creationdate': \"D:20210505131951Z00'00'\", 'author': 'Morgan Housel', 'moddate': \"D:20210505131951Z00'00'\", 'title': 'The Psychology of Money', 'source': '..\\\\Data\\\\money_book.pdf', 'total_pages': 32, 'page': 23, 'page_label': '24'}, page_content='tailwind. That kind of thing doesn’t just affect the opportunities \\nyou come across; it affects what you think about those \\nopportunities when they’re presented to you. To Gross, bonds \\nwere wealth-generating machines. To his father’s generation, who \\ngrew up with and endured higher inflation, they might be seen as \\nwealth incinerators. \\nThe differences in how people have experienced money are not \\nsmall, even among those you might think are pretty similar.'),\n",
       " Document(metadata={'producer': 'macOS Version 10.14.6 (Build 18G3020) Quartz PDFContext', 'creator': 'Adobe InDesign 15.0 (Macintosh)', 'creationdate': \"D:20210505131951Z00'00'\", 'author': 'Morgan Housel', 'moddate': \"D:20210505131951Z00'00'\", 'title': 'The Psychology of Money', 'source': '..\\\\Data\\\\money_book.pdf', 'total_pages': 32, 'page': 23, 'page_label': '24'}, page_content='Take stocks. If you were born in 1970, the S&P 500 increased \\nalmost 10-fold, adjusted for inflation, during your teens and 20s. \\nThat’s an amazing return. If you were born in 1950, the market \\nwent literally nowhere in your teens and 20s adjusted for inflation. \\nTwo groups of people, separated by chance of their birth year, go \\nthrough life with a completely different view on how the stock \\nmarket works:'),\n",
       " Document(metadata={'producer': 'macOS Version 10.14.6 (Build 18G3020) Quartz PDFContext', 'creator': 'Adobe InDesign 15.0 (Macintosh)', 'creationdate': \"D:20210505131951Z00'00'\", 'author': 'Morgan Housel', 'moddate': \"D:20210505131951Z00'00'\", 'title': 'The Psychology of Money', 'source': '..\\\\Data\\\\money_book.pdf', 'total_pages': 32, 'page': 24, 'page_label': '25'}, page_content='15\\n1. N O  O NE ’S  C RA Z Y \\n0 \\n1 \\n2 \\n3 \\n4 \\n5 \\n6 \\n7 \\n8 \\n9 \\n10 \\n13 18 \\nRebased to 1 at age 13 \\nAge \\nWhat stocks did in your teens and 20s \\nBorn 1950 Born 1970 \\n18 23 28\\nOr inflation. If you were born in 1960s America, inflation \\nduring your teens and 20s—your young, impressionable years \\nwhen you’re developing a base of knowledge about how the \\neconomy works—sent prices up more than threefold. That’s a \\nlot. You remember gas lines and getting paychecks that stretched'),\n",
       " Document(metadata={'producer': 'macOS Version 10.14.6 (Build 18G3020) Quartz PDFContext', 'creator': 'Adobe InDesign 15.0 (Macintosh)', 'creationdate': \"D:20210505131951Z00'00'\", 'author': 'Morgan Housel', 'moddate': \"D:20210505131951Z00'00'\", 'title': 'The Psychology of Money', 'source': '..\\\\Data\\\\money_book.pdf', 'total_pages': 32, 'page': 24, 'page_label': '25'}, page_content='noticeably less far than the ones before them. But if you were \\nborn in 1990, inflation has been so low for your whole life that it’s \\nprobably never crossed your mind.'),\n",
       " Document(metadata={'producer': 'macOS Version 10.14.6 (Build 18G3020) Quartz PDFContext', 'creator': 'Adobe InDesign 15.0 (Macintosh)', 'creationdate': \"D:20210505131951Z00'00'\", 'author': 'Morgan Housel', 'moddate': \"D:20210505131951Z00'00'\", 'title': 'The Psychology of Money', 'source': '..\\\\Data\\\\money_book.pdf', 'total_pages': 32, 'page': 25, 'page_label': '26'}, page_content='16\\nTHE PSYCHOLOGY OF MONEY\\n0 \\n1 \\n2 \\n3 \\n13 18 \\nRebased to 1 at age 13 \\nAge \\nWhat inﬂation did to prices in your teens and 20s \\nBorn 1960 Born 1990 \\n18 23 28\\nAmerica’s nationwide unemployment in November 2009 was \\naround 10%. But the unemployment rate for African American \\nmales age 16 to 19 without a high school diploma was 49%. For \\nCaucasian females over age 45 with a college degree, it was 4%.\\nLocal stock markets in Germany and Japan were wiped out'),\n",
       " Document(metadata={'producer': 'macOS Version 10.14.6 (Build 18G3020) Quartz PDFContext', 'creator': 'Adobe InDesign 15.0 (Macintosh)', 'creationdate': \"D:20210505131951Z00'00'\", 'author': 'Morgan Housel', 'moddate': \"D:20210505131951Z00'00'\", 'title': 'The Psychology of Money', 'source': '..\\\\Data\\\\money_book.pdf', 'total_pages': 32, 'page': 25, 'page_label': '26'}, page_content='during World War II. Entire regions were bombed out. At the \\nend of the war German farms only produced enough food to \\nprovide the country’s citizens with 1,000 calories a day. Compare \\nthat to the U.S., where the stock market more than doubled from \\n1941 through the end of 1945, and the economy was the strongest \\nit had been in almost two decades. \\nNo one should expect members of these groups to go through \\nthe rest of their lives thinking the same thing about inflation. Or'),\n",
       " Document(metadata={'producer': 'macOS Version 10.14.6 (Build 18G3020) Quartz PDFContext', 'creator': 'Adobe InDesign 15.0 (Macintosh)', 'creationdate': \"D:20210505131951Z00'00'\", 'author': 'Morgan Housel', 'moddate': \"D:20210505131951Z00'00'\", 'title': 'The Psychology of Money', 'source': '..\\\\Data\\\\money_book.pdf', 'total_pages': 32, 'page': 25, 'page_label': '26'}, page_content='the stock market. Or unemployment. Or money in general. \\nNo one should expect them to respond to financial information \\nthe same way. No one should assume they are influenced by the \\nsame incentives.'),\n",
       " Document(metadata={'producer': 'macOS Version 10.14.6 (Build 18G3020) Quartz PDFContext', 'creator': 'Adobe InDesign 15.0 (Macintosh)', 'creationdate': \"D:20210505131951Z00'00'\", 'author': 'Morgan Housel', 'moddate': \"D:20210505131951Z00'00'\", 'title': 'The Psychology of Money', 'source': '..\\\\Data\\\\money_book.pdf', 'total_pages': 32, 'page': 26, 'page_label': '27'}, page_content='17\\n1. N O  O NE ’S  C RA Z Y \\nNo one should expect them to trust the same sources of advice. \\nNo one should expect them to agree on what matters, what’s \\nworth it, what’s likely to happen next, and what the best path \\nforward is. \\nTheir view of money was formed in different worlds. And when \\nthat’s the case, a view about money that one group of people \\nthinks is outrageous can make perfect sense to another.  \\nA few years ago, The New York Times did a story on the working'),\n",
       " Document(metadata={'producer': 'macOS Version 10.14.6 (Build 18G3020) Quartz PDFContext', 'creator': 'Adobe InDesign 15.0 (Macintosh)', 'creationdate': \"D:20210505131951Z00'00'\", 'author': 'Morgan Housel', 'moddate': \"D:20210505131951Z00'00'\", 'title': 'The Psychology of Money', 'source': '..\\\\Data\\\\money_book.pdf', 'total_pages': 32, 'page': 26, 'page_label': '27'}, page_content='conditions of Foxconn, the massive Taiwanese electronics \\nmanufacturer. The conditions are often atrocious. Readers were \\nrightly upset. But a fascinating response to the story came from \\nthe nephew of a Chinese worker, who wrote in the comment \\nsection:\\nMy aunt worked several years in what Americans call “sweat \\nshops.” It was hard work. Long hours, “small” wage, “poor” \\nworking conditions. Do you know what my aunt did before \\nshe worked in one of these factories? She was a prostitute.'),\n",
       " Document(metadata={'producer': 'macOS Version 10.14.6 (Build 18G3020) Quartz PDFContext', 'creator': 'Adobe InDesign 15.0 (Macintosh)', 'creationdate': \"D:20210505131951Z00'00'\", 'author': 'Morgan Housel', 'moddate': \"D:20210505131951Z00'00'\", 'title': 'The Psychology of Money', 'source': '..\\\\Data\\\\money_book.pdf', 'total_pages': 32, 'page': 26, 'page_label': '27'}, page_content='The idea of working in a “sweat shop” compared to that old \\nlifestyle is an improvement, in my opinion. I know that my \\naunt would rather be “exploited” by an evil capitalist boss for \\na couple of dollars than have her body be exploited by several \\nmen for pennies.\\nThat is why I am upset by many Americans’ thinking. We do \\nnot have the same opportunities as the West. Our governmental \\ninfrastructure is different. The country is different. Yes, factory'),\n",
       " Document(metadata={'producer': 'macOS Version 10.14.6 (Build 18G3020) Quartz PDFContext', 'creator': 'Adobe InDesign 15.0 (Macintosh)', 'creationdate': \"D:20210505131951Z00'00'\", 'author': 'Morgan Housel', 'moddate': \"D:20210505131951Z00'00'\", 'title': 'The Psychology of Money', 'source': '..\\\\Data\\\\money_book.pdf', 'total_pages': 32, 'page': 26, 'page_label': '27'}, page_content='is hard labor. Could it be better? Yes, but only when you \\ncompare such to American jobs.\\nI don’t know what to make of this. Part of me wants to argue, \\nfiercely. Part of me wants to understand. But mostly it’s an \\nexample of how different experiences can lead to vastly different \\nviews within topics that one side intuitively thinks should be \\nblack and white.'),\n",
       " Document(metadata={'producer': 'macOS Version 10.14.6 (Build 18G3020) Quartz PDFContext', 'creator': 'Adobe InDesign 15.0 (Macintosh)', 'creationdate': \"D:20210505131951Z00'00'\", 'author': 'Morgan Housel', 'moddate': \"D:20210505131951Z00'00'\", 'title': 'The Psychology of Money', 'source': '..\\\\Data\\\\money_book.pdf', 'total_pages': 32, 'page': 27, 'page_label': '28'}, page_content='18\\nTHE PSYCHOLOGY OF MONEY\\nEvery decision people make with money is justified by taking \\nthe information they have at the moment and plugging it into \\ntheir unique mental model of how the world works. \\nThose people can be misinformed. They can have incomplete \\ninformation. They can be bad at math. They can be persuaded by \\nrotten marketing. They can have no idea what they’re doing. They \\ncan misjudge the consequences of their actions. Oh, can they ever.'),\n",
       " Document(metadata={'producer': 'macOS Version 10.14.6 (Build 18G3020) Quartz PDFContext', 'creator': 'Adobe InDesign 15.0 (Macintosh)', 'creationdate': \"D:20210505131951Z00'00'\", 'author': 'Morgan Housel', 'moddate': \"D:20210505131951Z00'00'\", 'title': 'The Psychology of Money', 'source': '..\\\\Data\\\\money_book.pdf', 'total_pages': 32, 'page': 27, 'page_label': '28'}, page_content='But every financial decision a person makes, makes sense to \\nthem in that moment and checks the boxes they need to check. \\nThey tell themselves a story about what they’re doing and why \\nthey’re doing it, and that story has been shaped by their own \\nunique experiences. \\nTake a simple example: lottery tickets. \\nAmericans spend more on them than movies, video games, \\nmusic, sporting events, and books combined. \\nAnd who buys them? Mostly poor people.'),\n",
       " Document(metadata={'producer': 'macOS Version 10.14.6 (Build 18G3020) Quartz PDFContext', 'creator': 'Adobe InDesign 15.0 (Macintosh)', 'creationdate': \"D:20210505131951Z00'00'\", 'author': 'Morgan Housel', 'moddate': \"D:20210505131951Z00'00'\", 'title': 'The Psychology of Money', 'source': '..\\\\Data\\\\money_book.pdf', 'total_pages': 32, 'page': 27, 'page_label': '28'}, page_content='The lowest-income households in the U.S. on average spend \\n$412 a year on lotto tickets, four times the amount of those in the \\nhighest income groups. Forty percent of Americans cannot come \\nup with $400 in an emergency. Which is to say: Those buying \\n$400 in lottery tickets are by and large the same people who \\nsay they couldn’t come up with $400 in an emergency. They are \\nblowing their safety nets on something with a one-in-millions \\nchance of hitting it big.'),\n",
       " Document(metadata={'producer': 'macOS Version 10.14.6 (Build 18G3020) Quartz PDFContext', 'creator': 'Adobe InDesign 15.0 (Macintosh)', 'creationdate': \"D:20210505131951Z00'00'\", 'author': 'Morgan Housel', 'moddate': \"D:20210505131951Z00'00'\", 'title': 'The Psychology of Money', 'source': '..\\\\Data\\\\money_book.pdf', 'total_pages': 32, 'page': 27, 'page_label': '28'}, page_content='That seems crazy to me. It probably seems crazy to you, too. \\nBut I’m not in the lowest income group. You’re likely not, either. \\nSo it’s hard for many of us to intuitively grasp the subconscious \\nreasoning of low-income lottery ticket buyers. \\nBut strain a little, and you can imagine it going something \\nlike this:\\nWe live paycheck-to-paycheck and saving seems out of reach. \\nOur prospects for much higher wages seem out of reach. We'),\n",
       " Document(metadata={'producer': 'macOS Version 10.14.6 (Build 18G3020) Quartz PDFContext', 'creator': 'Adobe InDesign 15.0 (Macintosh)', 'creationdate': \"D:20210505131951Z00'00'\", 'author': 'Morgan Housel', 'moddate': \"D:20210505131951Z00'00'\", 'title': 'The Psychology of Money', 'source': '..\\\\Data\\\\money_book.pdf', 'total_pages': 32, 'page': 28, 'page_label': '29'}, page_content='19\\n1. N O  O NE ’S  C RA Z Y \\ncan’t afford nice vacations, new cars, health insurance, or homes \\nin safe neighborhoods. We can’t put our kids through college \\nwithout crippling debt. Much of the stuff you people who read \\nfinance books either have now, or have a good chance of getting, \\nwe don’t. Buying a lottery ticket is the only time in our lives we \\ncan hold a tangible dream of getting the good stuff that you \\nalready have and take for granted. We are paying for a dream,'),\n",
       " Document(metadata={'producer': 'macOS Version 10.14.6 (Build 18G3020) Quartz PDFContext', 'creator': 'Adobe InDesign 15.0 (Macintosh)', 'creationdate': \"D:20210505131951Z00'00'\", 'author': 'Morgan Housel', 'moddate': \"D:20210505131951Z00'00'\", 'title': 'The Psychology of Money', 'source': '..\\\\Data\\\\money_book.pdf', 'total_pages': 32, 'page': 28, 'page_label': '29'}, page_content='and you may not understand that because you are already living \\na dream. That’s why we buy more tickets than you do.\\nYou don’t have to agree with this reasoning. Buying lotto tickets \\nwhen you’re broke is still a bad idea. But I can kind of understand \\nwhy lotto ticket sales persist. \\nAnd that idea—“What you’re doing seems crazy but I kind of \\nunderstand why you’re doing it.”—uncovers the root of many of \\nour financial decisions. \\nFew people make financial decisions purely with a spreadsheet.'),\n",
       " Document(metadata={'producer': 'macOS Version 10.14.6 (Build 18G3020) Quartz PDFContext', 'creator': 'Adobe InDesign 15.0 (Macintosh)', 'creationdate': \"D:20210505131951Z00'00'\", 'author': 'Morgan Housel', 'moddate': \"D:20210505131951Z00'00'\", 'title': 'The Psychology of Money', 'source': '..\\\\Data\\\\money_book.pdf', 'total_pages': 32, 'page': 28, 'page_label': '29'}, page_content='They make them at the dinner table, or in a company meeting. \\nPlaces where personal history, your own unique view of the world, \\nego, pride, marketing, and odd incentives are scrambled together \\ninto a narrative that works for you. \\n***\\nAnother important point that helps explain why money decisions \\nare so difficult, and why there is so much misbehavior, is to \\nrecognize how new this topic is. \\nMoney has been around a long time. King Alyattes of Lydia,'),\n",
       " Document(metadata={'producer': 'macOS Version 10.14.6 (Build 18G3020) Quartz PDFContext', 'creator': 'Adobe InDesign 15.0 (Macintosh)', 'creationdate': \"D:20210505131951Z00'00'\", 'author': 'Morgan Housel', 'moddate': \"D:20210505131951Z00'00'\", 'title': 'The Psychology of Money', 'source': '..\\\\Data\\\\money_book.pdf', 'total_pages': 32, 'page': 28, 'page_label': '29'}, page_content='now part of Turkey, is thought to have created the first official \\ncurrency in 600 BC. But the modern foundation of money \\ndecisions—saving and investing—is based around concepts that \\nare practically infants. \\nTake retirement. At the end of 2018 there was $27 trillion in U.S. \\nretirement accounts, making it the main driver of the common \\ninvestor’s saving and investing decisions.5'),\n",
       " Document(metadata={'producer': 'macOS Version 10.14.6 (Build 18G3020) Quartz PDFContext', 'creator': 'Adobe InDesign 15.0 (Macintosh)', 'creationdate': \"D:20210505131951Z00'00'\", 'author': 'Morgan Housel', 'moddate': \"D:20210505131951Z00'00'\", 'title': 'The Psychology of Money', 'source': '..\\\\Data\\\\money_book.pdf', 'total_pages': 32, 'page': 29, 'page_label': '30'}, page_content='20\\nTHE PSYCHOLOGY OF MONEY\\nBut the entire concept of being entitled to retirement is, at \\nmost, two generations old. \\nBefore World War II most Americans worked until they \\ndied. That was the expectation and the reality. The labor force \\nparticipation rate of men age 65 and over was above 50% until \\nthe 1940s:\\n1880\\n1890\\n1900\\n1910\\n1920\\n1930\\n1940\\n1950\\n1960\\n1970\\n1980\\n1990\\n2000\\n2010\\n78% \\n74% \\n65% \\n58% 60% 58% \\n44% \\n47% \\n41% \\n35% \\n25% \\n18% 18% \\n22% \\n0% \\n10% \\n20% \\n30% \\n40% \\n50% \\n60% \\n70% \\n80% \\n90%'),\n",
       " Document(metadata={'producer': 'macOS Version 10.14.6 (Build 18G3020) Quartz PDFContext', 'creator': 'Adobe InDesign 15.0 (Macintosh)', 'creationdate': \"D:20210505131951Z00'00'\", 'author': 'Morgan Housel', 'moddate': \"D:20210505131951Z00'00'\", 'title': 'The Psychology of Money', 'source': '..\\\\Data\\\\money_book.pdf', 'total_pages': 32, 'page': 29, 'page_label': '30'}, page_content='60% \\n70% \\n80% \\n90% \\nLaborforce participation rate for men age 65+ \\nSocial Security aimed to change this. But its initial benefits \\nwere nothing close to a proper pension. When Ida May Fuller \\ncashed the first Social Security check in 1940, it was for $22.54, \\nor $416 adjusted for inflation. It was not until the 1980s that \\nthe average Social Security check for retirees exceeded $1,000 a \\nmonth adjusted for inflation. More than a quarter of Americans'),\n",
       " Document(metadata={'producer': 'macOS Version 10.14.6 (Build 18G3020) Quartz PDFContext', 'creator': 'Adobe InDesign 15.0 (Macintosh)', 'creationdate': \"D:20210505131951Z00'00'\", 'author': 'Morgan Housel', 'moddate': \"D:20210505131951Z00'00'\", 'title': 'The Psychology of Money', 'source': '..\\\\Data\\\\money_book.pdf', 'total_pages': 32, 'page': 29, 'page_label': '30'}, page_content='over age 65 were classified by the Census Bureau as living in \\npoverty until the late 1960s. \\nThere is a widespread belief along the lines of, “everyone used \\nto have a private pension.” But this is wildly exaggerated. The \\nEmployee Benefit Research Institute explains: “Only a quarter of'),\n",
       " Document(metadata={'producer': 'macOS Version 10.14.6 (Build 18G3020) Quartz PDFContext', 'creator': 'Adobe InDesign 15.0 (Macintosh)', 'creationdate': \"D:20210505131951Z00'00'\", 'author': 'Morgan Housel', 'moddate': \"D:20210505131951Z00'00'\", 'title': 'The Psychology of Money', 'source': '..\\\\Data\\\\money_book.pdf', 'total_pages': 32, 'page': 30, 'page_label': '31'}, page_content='21\\n1. N O  O NE ’S  C RA Z Y \\nthose age 65 or older had pension income in 1975.” Among that \\nlucky minority, only 15% of household income came from a pension. \\nThe New York Times  wrote in 1955 about the growing desire, \\nbut continued inability, to retire: “To rephrase an old saying: \\neveryone talks about retirement, but apparently very few do \\nanything about it.”6\\nIt was not until the 1980s that the idea that everyone deserves, \\nand should have, a dignified retirement took hold. And the way'),\n",
       " Document(metadata={'producer': 'macOS Version 10.14.6 (Build 18G3020) Quartz PDFContext', 'creator': 'Adobe InDesign 15.0 (Macintosh)', 'creationdate': \"D:20210505131951Z00'00'\", 'author': 'Morgan Housel', 'moddate': \"D:20210505131951Z00'00'\", 'title': 'The Psychology of Money', 'source': '..\\\\Data\\\\money_book.pdf', 'total_pages': 32, 'page': 30, 'page_label': '31'}, page_content='to get that dignified retirement ever since has been an expectation \\nthat everyone will save and invest their own money. \\nLet me reiterate how new this idea is: The 401(k)—the \\nbackbone savings vehicle of American retirement—did not exist \\nuntil 1978. The Roth IRA was not born until 1998. If it were a \\nperson it would be barely old enough to drink. \\nIt should surprise no one that many of us are bad at saving and \\ninvesting for retirement. We’re not crazy. We’re all just newbies.'),\n",
       " Document(metadata={'producer': 'macOS Version 10.14.6 (Build 18G3020) Quartz PDFContext', 'creator': 'Adobe InDesign 15.0 (Macintosh)', 'creationdate': \"D:20210505131951Z00'00'\", 'author': 'Morgan Housel', 'moddate': \"D:20210505131951Z00'00'\", 'title': 'The Psychology of Money', 'source': '..\\\\Data\\\\money_book.pdf', 'total_pages': 32, 'page': 30, 'page_label': '31'}, page_content='Same goes for college. The share of Americans over age 25 with \\na bachelor’s degree has gone from less than 1 in 20 in 1940 to 1 in \\n4 by 2015. 7 The average college tuition over that time rose more \\nthan fourfold adjusted for inflation. 8 Something so big and so \\nimportant hitting society so fast explains why, for example, so \\nmany people have made poor decisions with student loans over \\nthe last 20 years. There is not decades of accumulated experience'),\n",
       " Document(metadata={'producer': 'macOS Version 10.14.6 (Build 18G3020) Quartz PDFContext', 'creator': 'Adobe InDesign 15.0 (Macintosh)', 'creationdate': \"D:20210505131951Z00'00'\", 'author': 'Morgan Housel', 'moddate': \"D:20210505131951Z00'00'\", 'title': 'The Psychology of Money', 'source': '..\\\\Data\\\\money_book.pdf', 'total_pages': 32, 'page': 30, 'page_label': '31'}, page_content='to even attempt to learn from. We’re winging it. \\nSame for index funds, which are less than 50 years old. And \\nhedge funds, which didn’t take off until the last 25 years. Even \\nwidespread use of consumer debt—mortgages, credit cards, and \\ncar loans—did not take off until after World War II, when the GI \\nBill made it easier for millions of Americans to borrow. \\nDogs were domesticated 10,000 years ago and still retain some \\nbehaviors of their wild ancestors. Yet here we are, with between 20'),\n",
       " Document(metadata={'producer': 'macOS Version 10.14.6 (Build 18G3020) Quartz PDFContext', 'creator': 'Adobe InDesign 15.0 (Macintosh)', 'creationdate': \"D:20210505131951Z00'00'\", 'author': 'Morgan Housel', 'moddate': \"D:20210505131951Z00'00'\", 'title': 'The Psychology of Money', 'source': '..\\\\Data\\\\money_book.pdf', 'total_pages': 32, 'page': 30, 'page_label': '31'}, page_content='and 50 years of experience in the modern financial system, hoping \\nto be perfectly acclimated.'),\n",
       " Document(metadata={'producer': 'macOS Version 10.14.6 (Build 18G3020) Quartz PDFContext', 'creator': 'Adobe InDesign 15.0 (Macintosh)', 'creationdate': \"D:20210505131951Z00'00'\", 'author': 'Morgan Housel', 'moddate': \"D:20210505131951Z00'00'\", 'title': 'The Psychology of Money', 'source': '..\\\\Data\\\\money_book.pdf', 'total_pages': 32, 'page': 31, 'page_label': '32'}, page_content='22\\nTHE PSYCHOLOGY OF MONEY\\nFor a topic that is so influenced by emotion versus fact, this is a \\nproblem. And it helps explain why we don’t always do what we’re \\nsupposed to with money. \\nWe all do crazy stuff with money, because we’re all relatively \\nnew to this game and what looks crazy to you might make sense \\nto me. But no one is crazy—we all make decisions based on our \\nown unique experiences that seem to make sense to us in a given \\nmoment.'),\n",
       " Document(metadata={'producer': 'macOS Version 10.14.6 (Build 18G3020) Quartz PDFContext', 'creator': 'Adobe InDesign 15.0 (Macintosh)', 'creationdate': \"D:20210505131951Z00'00'\", 'author': 'Morgan Housel', 'moddate': \"D:20210505131951Z00'00'\", 'title': 'The Psychology of Money', 'source': '..\\\\Data\\\\money_book.pdf', 'total_pages': 32, 'page': 31, 'page_label': '32'}, page_content='moment. \\nNow let me tell you a story about how Bill Gates got rich.')]"
      ]
     },
     "execution_count": 8,
     "metadata": {},
     "output_type": "execute_result"
    }
   ],
   "source": [
    "text_chunks"
   ]
  },
  {
   "cell_type": "code",
   "execution_count": 9,
   "id": "f91fc4bb",
   "metadata": {},
   "outputs": [
    {
     "name": "stdout",
     "output_type": "stream",
     "text": [
      "Collecting huggingface_hub==0.16.4\n",
      "  Using cached huggingface_hub-0.16.4-py3-none-any.whl.metadata (12 kB)\n",
      "Requirement already satisfied: filelock in c:\\users\\kevin\\anaconda3\\envs\\moneybot\\lib\\site-packages (from huggingface_hub==0.16.4) (3.18.0)\n",
      "Requirement already satisfied: fsspec in c:\\users\\kevin\\anaconda3\\envs\\moneybot\\lib\\site-packages (from huggingface_hub==0.16.4) (2025.7.0)\n",
      "Requirement already satisfied: requests in c:\\users\\kevin\\anaconda3\\envs\\moneybot\\lib\\site-packages (from huggingface_hub==0.16.4) (2.32.4)\n",
      "Requirement already satisfied: tqdm>=4.42.1 in c:\\users\\kevin\\anaconda3\\envs\\moneybot\\lib\\site-packages (from huggingface_hub==0.16.4) (4.67.1)\n",
      "Requirement already satisfied: pyyaml>=5.1 in c:\\users\\kevin\\anaconda3\\envs\\moneybot\\lib\\site-packages (from huggingface_hub==0.16.4) (6.0.2)\n",
      "Requirement already satisfied: typing-extensions>=3.7.4.3 in c:\\users\\kevin\\anaconda3\\envs\\moneybot\\lib\\site-packages (from huggingface_hub==0.16.4) (4.14.1)\n",
      "Requirement already satisfied: packaging>=20.9 in c:\\users\\kevin\\anaconda3\\envs\\moneybot\\lib\\site-packages (from huggingface_hub==0.16.4) (24.2)\n",
      "Requirement already satisfied: colorama in c:\\users\\kevin\\anaconda3\\envs\\moneybot\\lib\\site-packages (from tqdm>=4.42.1->huggingface_hub==0.16.4) (0.4.6)\n",
      "Requirement already satisfied: charset_normalizer<4,>=2 in c:\\users\\kevin\\anaconda3\\envs\\moneybot\\lib\\site-packages (from requests->huggingface_hub==0.16.4) (3.4.2)\n",
      "Requirement already satisfied: idna<4,>=2.5 in c:\\users\\kevin\\anaconda3\\envs\\moneybot\\lib\\site-packages (from requests->huggingface_hub==0.16.4) (3.10)\n",
      "Requirement already satisfied: urllib3<3,>=1.21.1 in c:\\users\\kevin\\anaconda3\\envs\\moneybot\\lib\\site-packages (from requests->huggingface_hub==0.16.4) (2.5.0)\n",
      "Requirement already satisfied: certifi>=2017.4.17 in c:\\users\\kevin\\anaconda3\\envs\\moneybot\\lib\\site-packages (from requests->huggingface_hub==0.16.4) (2025.8.3)\n",
      "Using cached huggingface_hub-0.16.4-py3-none-any.whl (268 kB)\n",
      "Installing collected packages: huggingface_hub\n",
      "  Attempting uninstall: huggingface_hub\n",
      "    Found existing installation: huggingface-hub 0.34.3\n",
      "    Uninstalling huggingface-hub-0.34.3:\n",
      "      Successfully uninstalled huggingface-hub-0.34.3\n",
      "Successfully installed huggingface_hub-0.16.4\n"
     ]
    },
    {
     "name": "stderr",
     "output_type": "stream",
     "text": [
      "ERROR: pip's dependency resolver does not currently take into account all the packages that are installed. This behaviour is the source of the following dependency conflicts.\n",
      "sentence-transformers 5.0.0 requires huggingface-hub>=0.20.0, but you have huggingface-hub 0.16.4 which is incompatible.\n",
      "transformers 4.54.1 requires huggingface-hub<1.0,>=0.34.0, but you have huggingface-hub 0.16.4 which is incompatible.\n"
     ]
    },
    {
     "name": "stdout",
     "output_type": "stream",
     "text": [
      "Requirement already satisfied: sentence-transformers in c:\\users\\kevin\\anaconda3\\envs\\moneybot\\lib\\site-packages (5.0.0)\n",
      "Requirement already satisfied: transformers<5.0.0,>=4.41.0 in c:\\users\\kevin\\anaconda3\\envs\\moneybot\\lib\\site-packages (from sentence-transformers) (4.54.1)\n",
      "Requirement already satisfied: tqdm in c:\\users\\kevin\\anaconda3\\envs\\moneybot\\lib\\site-packages (from sentence-transformers) (4.67.1)\n",
      "Requirement already satisfied: torch>=1.11.0 in c:\\users\\kevin\\anaconda3\\envs\\moneybot\\lib\\site-packages (from sentence-transformers) (2.7.1)\n",
      "Requirement already satisfied: scikit-learn in c:\\users\\kevin\\anaconda3\\envs\\moneybot\\lib\\site-packages (from sentence-transformers) (1.7.1)\n",
      "Requirement already satisfied: scipy in c:\\users\\kevin\\anaconda3\\envs\\moneybot\\lib\\site-packages (from sentence-transformers) (1.16.1)\n",
      "Collecting huggingface-hub>=0.20.0 (from sentence-transformers)\n",
      "  Using cached huggingface_hub-0.34.3-py3-none-any.whl.metadata (14 kB)\n",
      "Requirement already satisfied: Pillow in c:\\users\\kevin\\anaconda3\\envs\\moneybot\\lib\\site-packages (from sentence-transformers) (11.3.0)\n",
      "Requirement already satisfied: typing_extensions>=4.5.0 in c:\\users\\kevin\\anaconda3\\envs\\moneybot\\lib\\site-packages (from sentence-transformers) (4.14.1)\n",
      "Requirement already satisfied: filelock in c:\\users\\kevin\\anaconda3\\envs\\moneybot\\lib\\site-packages (from transformers<5.0.0,>=4.41.0->sentence-transformers) (3.18.0)\n",
      "Requirement already satisfied: numpy>=1.17 in c:\\users\\kevin\\anaconda3\\envs\\moneybot\\lib\\site-packages (from transformers<5.0.0,>=4.41.0->sentence-transformers) (2.3.2)\n",
      "Requirement already satisfied: packaging>=20.0 in c:\\users\\kevin\\anaconda3\\envs\\moneybot\\lib\\site-packages (from transformers<5.0.0,>=4.41.0->sentence-transformers) (24.2)\n",
      "Requirement already satisfied: pyyaml>=5.1 in c:\\users\\kevin\\anaconda3\\envs\\moneybot\\lib\\site-packages (from transformers<5.0.0,>=4.41.0->sentence-transformers) (6.0.2)\n",
      "Requirement already satisfied: regex!=2019.12.17 in c:\\users\\kevin\\anaconda3\\envs\\moneybot\\lib\\site-packages (from transformers<5.0.0,>=4.41.0->sentence-transformers) (2025.7.34)\n",
      "Requirement already satisfied: requests in c:\\users\\kevin\\anaconda3\\envs\\moneybot\\lib\\site-packages (from transformers<5.0.0,>=4.41.0->sentence-transformers) (2.32.4)\n",
      "Requirement already satisfied: tokenizers<0.22,>=0.21 in c:\\users\\kevin\\anaconda3\\envs\\moneybot\\lib\\site-packages (from transformers<5.0.0,>=4.41.0->sentence-transformers) (0.21.4)\n",
      "Requirement already satisfied: safetensors>=0.4.3 in c:\\users\\kevin\\anaconda3\\envs\\moneybot\\lib\\site-packages (from transformers<5.0.0,>=4.41.0->sentence-transformers) (0.5.3)\n",
      "Requirement already satisfied: fsspec>=2023.5.0 in c:\\users\\kevin\\anaconda3\\envs\\moneybot\\lib\\site-packages (from huggingface-hub>=0.20.0->sentence-transformers) (2025.7.0)\n",
      "Requirement already satisfied: sympy>=1.13.3 in c:\\users\\kevin\\anaconda3\\envs\\moneybot\\lib\\site-packages (from torch>=1.11.0->sentence-transformers) (1.14.0)\n",
      "Requirement already satisfied: networkx in c:\\users\\kevin\\anaconda3\\envs\\moneybot\\lib\\site-packages (from torch>=1.11.0->sentence-transformers) (3.5)\n",
      "Requirement already satisfied: jinja2 in c:\\users\\kevin\\anaconda3\\envs\\moneybot\\lib\\site-packages (from torch>=1.11.0->sentence-transformers) (3.1.6)\n",
      "Requirement already satisfied: mpmath<1.4,>=1.1.0 in c:\\users\\kevin\\anaconda3\\envs\\moneybot\\lib\\site-packages (from sympy>=1.13.3->torch>=1.11.0->sentence-transformers) (1.3.0)\n",
      "Requirement already satisfied: colorama in c:\\users\\kevin\\anaconda3\\envs\\moneybot\\lib\\site-packages (from tqdm->sentence-transformers) (0.4.6)\n",
      "Requirement already satisfied: MarkupSafe>=2.0 in c:\\users\\kevin\\anaconda3\\envs\\moneybot\\lib\\site-packages (from jinja2->torch>=1.11.0->sentence-transformers) (3.0.2)\n",
      "Requirement already satisfied: charset_normalizer<4,>=2 in c:\\users\\kevin\\anaconda3\\envs\\moneybot\\lib\\site-packages (from requests->transformers<5.0.0,>=4.41.0->sentence-transformers) (3.4.2)\n",
      "Requirement already satisfied: idna<4,>=2.5 in c:\\users\\kevin\\anaconda3\\envs\\moneybot\\lib\\site-packages (from requests->transformers<5.0.0,>=4.41.0->sentence-transformers) (3.10)\n",
      "Requirement already satisfied: urllib3<3,>=1.21.1 in c:\\users\\kevin\\anaconda3\\envs\\moneybot\\lib\\site-packages (from requests->transformers<5.0.0,>=4.41.0->sentence-transformers) (2.5.0)\n",
      "Requirement already satisfied: certifi>=2017.4.17 in c:\\users\\kevin\\anaconda3\\envs\\moneybot\\lib\\site-packages (from requests->transformers<5.0.0,>=4.41.0->sentence-transformers) (2025.8.3)\n",
      "Requirement already satisfied: joblib>=1.2.0 in c:\\users\\kevin\\anaconda3\\envs\\moneybot\\lib\\site-packages (from scikit-learn->sentence-transformers) (1.5.1)\n",
      "Requirement already satisfied: threadpoolctl>=3.1.0 in c:\\users\\kevin\\anaconda3\\envs\\moneybot\\lib\\site-packages (from scikit-learn->sentence-transformers) (3.6.0)\n",
      "Using cached huggingface_hub-0.34.3-py3-none-any.whl (558 kB)\n",
      "Installing collected packages: huggingface-hub\n",
      "  Attempting uninstall: huggingface-hub\n",
      "    Found existing installation: huggingface-hub 0.16.4\n",
      "    Uninstalling huggingface-hub-0.16.4:\n",
      "      Successfully uninstalled huggingface-hub-0.16.4\n",
      "Successfully installed huggingface-hub-0.34.3\n",
      "Python executable: c:\\Users\\kevin\\anaconda3\\envs\\moneybot\\python.exe\n",
      "Python version: 3.11.13 | packaged by Anaconda, Inc. | (main, Jun  5 2025, 13:03:15) [MSC v.1929 64 bit (AMD64)]\n",
      "Please restart the kernel after installation, then run the next cells.\n"
     ]
    }
   ],
   "source": [
    "# Fix huggingface_hub compatibility issue\n",
    "!pip install huggingface_hub==0.16.4\n",
    "!pip install sentence-transformers --upgrade\n",
    "\n",
    "# Check current Python environment\n",
    "import sys\n",
    "print(f\"Python executable: {sys.executable}\")\n",
    "print(f\"Python version: {sys.version}\")\n",
    "\n",
    "# Restart kernel message\n",
    "print(\"Please restart the kernel after installation, then run the next cells.\")"
   ]
  },
  {
   "cell_type": "code",
   "execution_count": 10,
   "id": "53c552cf",
   "metadata": {},
   "outputs": [
    {
     "name": "stderr",
     "output_type": "stream",
     "text": [
      "c:\\Users\\kevin\\anaconda3\\envs\\moneybot\\Lib\\site-packages\\tqdm\\auto.py:21: TqdmWarning: IProgress not found. Please update jupyter and ipywidgets. See https://ipywidgets.readthedocs.io/en/stable/user_install.html\n",
      "  from .autonotebook import tqdm as notebook_tqdm\n"
     ]
    }
   ],
   "source": [
    "from sentence_transformers import SentenceTransformer\n",
    "\n",
    "# Load the model from Hugging Face Hub\n",
    "def download_hugging_face_embeddings():\n",
    "    model = SentenceTransformer('sentence-transformers/all-MiniLM-L6-v2')\n",
    "    return model\n",
    "\n",
    "# Test function to generate embeddings\n",
    "def test_embeddings(model):\n",
    "    # Example sentences\n",
    "    sentences = [\"This is an example sentence\", \"Each sentence is converted\"]\n",
    "    \n",
    "    # Generate embeddings\n",
    "    embeddings = model.encode(sentences)\n",
    "    print(f\"Embeddings shape: {embeddings.shape}\")\n",
    "    print(f\"First embedding: {embeddings[0][:5]}...\")  # Show first 5 values\n",
    "    return embeddings"
   ]
  },
  {
   "cell_type": "code",
   "execution_count": 11,
   "id": "e95102dc",
   "metadata": {},
   "outputs": [
    {
     "name": "stderr",
     "output_type": "stream",
     "text": [
      "c:\\Users\\kevin\\anaconda3\\envs\\moneybot\\Lib\\site-packages\\huggingface_hub\\file_download.py:143: UserWarning: `huggingface_hub` cache-system uses symlinks by default to efficiently store duplicated files but your machine does not support them in C:\\Users\\kevin\\.cache\\huggingface\\hub\\models--sentence-transformers--all-MiniLM-L6-v2. Caching files will still work but in a degraded version that might require more space on your disk. This warning can be disabled by setting the `HF_HUB_DISABLE_SYMLINKS_WARNING` environment variable. For more details, see https://huggingface.co/docs/huggingface_hub/how-to-cache#limitations.\n",
      "To support symlinks on Windows, you either need to activate Developer Mode or to run Python as an administrator. In order to activate developer mode, see this article: https://docs.microsoft.com/en-us/windows/apps/get-started/enable-your-device-for-development\n",
      "  warnings.warn(message)\n",
      "Xet Storage is enabled for this repo, but the 'hf_xet' package is not installed. Falling back to regular HTTP download. For better performance, install the package with: `pip install huggingface_hub[hf_xet]` or `pip install hf_xet`\n",
      "Xet Storage is enabled for this repo, but the 'hf_xet' package is not installed. Falling back to regular HTTP download. For better performance, install the package with: `pip install huggingface_hub[hf_xet]` or `pip install hf_xet`\n"
     ]
    },
    {
     "name": "stdout",
     "output_type": "stream",
     "text": [
      "Embeddings shape: (2, 384)\n",
      "First embedding: [0.06765688 0.06349591 0.04871314 0.07930496 0.03744806]...\n"
     ]
    },
    {
     "name": "stderr",
     "output_type": "stream",
     "text": [
      "c:\\Users\\kevin\\anaconda3\\envs\\moneybot\\Lib\\site-packages\\torch\\nn\\modules\\module.py:1762: FutureWarning: `encoder_attention_mask` is deprecated and will be removed in version 4.55.0 for `BertSdpaSelfAttention.forward`.\n",
      "  return forward_call(*args, **kwargs)\n"
     ]
    },
    {
     "data": {
      "text/plain": [
       "array([[ 6.76568821e-02,  6.34959117e-02,  4.87131439e-02,\n",
       "         7.93049559e-02,  3.74480635e-02,  2.65279901e-03,\n",
       "         3.93749736e-02, -7.09847594e-03,  5.93614466e-02,\n",
       "         3.15370448e-02,  6.00980595e-02, -5.29052205e-02,\n",
       "         4.06067669e-02, -2.59308070e-02,  2.98428256e-02,\n",
       "         1.12692453e-03,  7.35148787e-02, -5.03818952e-02,\n",
       "        -1.22386634e-01,  2.37028133e-02,  2.97265332e-02,\n",
       "         4.24768552e-02,  2.56337691e-02,  1.99518725e-03,\n",
       "        -5.69191128e-02, -2.71598194e-02, -3.29035521e-02,\n",
       "         6.60248771e-02,  1.19007163e-01, -4.58791517e-02,\n",
       "        -7.26214498e-02, -3.25840227e-02,  5.23413569e-02,\n",
       "         4.50553037e-02,  8.25298857e-03,  3.67024094e-02,\n",
       "        -1.39415646e-02,  6.53918535e-02, -2.64272671e-02,\n",
       "         2.06397686e-04, -1.36643434e-02, -3.62810977e-02,\n",
       "        -1.95043795e-02, -2.89738216e-02,  3.94270122e-02,\n",
       "        -8.84090662e-02,  2.62427074e-03,  1.36713488e-02,\n",
       "         4.83062565e-02, -3.11566107e-02, -1.17329188e-01,\n",
       "        -5.11690341e-02, -8.85288268e-02, -2.18962803e-02,\n",
       "         1.42986607e-02,  4.44167592e-02, -1.34814996e-02,\n",
       "         7.43392557e-02,  2.66383160e-02, -1.98762398e-02,\n",
       "         1.79191250e-02, -1.06052058e-02, -9.04262587e-02,\n",
       "         2.13269107e-02,  1.41204849e-01, -6.47177268e-03,\n",
       "        -1.40381162e-03, -1.53609626e-02, -8.73571411e-02,\n",
       "         7.22174197e-02,  2.01402809e-02,  4.25587781e-02,\n",
       "        -3.49014103e-02,  3.19512386e-04, -8.02970603e-02,\n",
       "        -3.27472650e-02,  2.85268631e-02, -5.13657816e-02,\n",
       "         1.09389164e-01,  8.19327682e-02, -9.84040424e-02,\n",
       "        -9.34095532e-02, -1.51292244e-02,  4.51248437e-02,\n",
       "         4.94171865e-02, -2.51867976e-02,  1.57077052e-02,\n",
       "        -1.29290715e-01,  5.31890662e-03,  4.02338477e-03,\n",
       "        -2.34571584e-02, -6.72982410e-02,  2.92280205e-02,\n",
       "        -2.60845162e-02,  1.30624939e-02, -3.11663095e-02,\n",
       "        -4.82713357e-02, -5.58859631e-02, -3.87505218e-02,\n",
       "         1.20010853e-01, -1.03924619e-02,  4.89704870e-02,\n",
       "         5.53537272e-02,  4.49358821e-02, -4.00974229e-03,\n",
       "        -1.02959752e-01, -2.92968899e-02, -5.83402514e-02,\n",
       "         2.70472206e-02, -2.20168792e-02, -7.22241178e-02,\n",
       "        -4.13869917e-02, -1.93298031e-02,  2.73329043e-03,\n",
       "         2.77012121e-04, -9.67588797e-02, -1.00574754e-01,\n",
       "        -1.41923185e-02, -8.07891861e-02,  4.53925095e-02,\n",
       "         2.45042071e-02,  5.97613826e-02, -7.38185421e-02,\n",
       "         1.19843995e-02, -6.63403794e-02, -7.69045502e-02,\n",
       "         3.85157764e-02, -5.59362183e-33,  2.80013923e-02,\n",
       "        -5.60784824e-02, -4.86601591e-02,  2.15569139e-02,\n",
       "         6.01980872e-02, -4.81402576e-02, -3.50247212e-02,\n",
       "         1.93314161e-02, -1.75152160e-02, -3.89210619e-02,\n",
       "        -3.81070049e-03, -1.70287676e-02,  2.82099973e-02,\n",
       "         1.28290951e-02,  4.71600704e-02,  6.21030293e-02,\n",
       "        -6.43588752e-02,  1.29285589e-01, -1.31231584e-02,\n",
       "         5.23069091e-02, -3.73680778e-02,  2.89094672e-02,\n",
       "        -1.68981124e-02, -2.37330701e-02, -3.33491415e-02,\n",
       "        -5.16762435e-02,  1.55356834e-02,  2.08802950e-02,\n",
       "        -1.25372130e-02,  4.59579006e-02,  3.72719951e-02,\n",
       "         2.80566886e-02, -5.90004697e-02, -1.16988299e-02,\n",
       "         4.92182635e-02,  4.70329225e-02,  7.35487938e-02,\n",
       "        -3.70529965e-02,  3.98458401e-03,  1.06411465e-02,\n",
       "        -1.61505857e-04, -5.27166501e-02,  2.75928043e-02,\n",
       "        -3.92920971e-02,  8.44717696e-02,  4.86860722e-02,\n",
       "        -4.85869637e-03,  1.79948695e-02, -4.28569466e-02,\n",
       "         1.23375226e-02,  6.39950763e-03,  4.04823236e-02,\n",
       "         1.48887197e-02, -1.53941233e-02,  7.62948170e-02,\n",
       "         2.37043966e-02,  4.45237160e-02,  5.08195609e-02,\n",
       "        -2.31256569e-03, -1.88737046e-02, -1.23335272e-02,\n",
       "         4.66001667e-02, -5.63437976e-02,  6.29927665e-02,\n",
       "        -3.15535180e-02,  3.24912444e-02,  2.34673601e-02,\n",
       "        -6.55438229e-02,  2.01709364e-02,  2.57082935e-02,\n",
       "        -1.23869013e-02, -8.36488325e-03, -6.64377958e-02,\n",
       "         9.43073630e-02, -3.57093364e-02, -3.42483260e-02,\n",
       "        -6.66355947e-03, -8.01521912e-03, -3.09711546e-02,\n",
       "         4.33012173e-02, -8.21401272e-03, -1.50795043e-01,\n",
       "         3.07691935e-02,  4.00719494e-02, -3.79293226e-02,\n",
       "         1.93211960e-03,  4.00530845e-02, -8.77074897e-02,\n",
       "        -3.68491299e-02,  8.57959222e-03, -3.19252126e-02,\n",
       "        -1.25257969e-02,  7.35540241e-02,  1.34738965e-03,\n",
       "         2.05918662e-02,  2.71098091e-33, -5.18577062e-02,\n",
       "         5.78361005e-02, -9.18984860e-02,  3.94421443e-02,\n",
       "         1.05576515e-01, -1.96912009e-02,  6.18402362e-02,\n",
       "        -7.63465166e-02,  2.40880270e-02,  9.40049514e-02,\n",
       "        -1.16535418e-01,  3.71198617e-02,  5.22425212e-02,\n",
       "        -3.95853212e-03,  5.72214387e-02,  5.32854116e-03,\n",
       "         1.24016851e-01,  1.39022358e-02, -1.10249668e-02,\n",
       "         3.56053151e-02, -3.30754369e-02,  8.16574246e-02,\n",
       "        -1.52003700e-02,  6.05585463e-02, -6.01397641e-02,\n",
       "         3.26102376e-02, -3.48296650e-02, -1.69881675e-02,\n",
       "        -9.74907354e-02, -2.71484405e-02,  1.74707524e-03,\n",
       "        -7.68982545e-02, -4.31857966e-02, -1.89984906e-02,\n",
       "        -2.91661099e-02,  5.77488318e-02,  2.41821483e-02,\n",
       "        -1.16902115e-02, -6.21435270e-02,  2.84351762e-02,\n",
       "        -2.37522239e-04, -2.51783505e-02,  4.39638412e-03,\n",
       "         8.12839866e-02,  3.64184082e-02, -6.04006499e-02,\n",
       "        -3.65516730e-02, -7.93748349e-02, -5.08527132e-03,\n",
       "         6.69698790e-02, -1.17784359e-01,  3.23743448e-02,\n",
       "        -4.71253060e-02, -1.34459333e-02, -9.48445052e-02,\n",
       "         8.24958365e-03, -1.06748929e-02, -6.81881458e-02,\n",
       "         1.11821061e-03,  2.48020198e-02, -6.35889396e-02,\n",
       "         2.84492914e-02, -2.61303820e-02,  8.58111680e-02,\n",
       "         1.14682287e-01, -5.35345599e-02, -5.63588366e-02,\n",
       "         4.26008925e-02,  1.09454431e-02,  2.09578760e-02,\n",
       "         1.00131154e-01,  3.26050892e-02, -1.84208751e-01,\n",
       "        -3.93208638e-02, -6.91455007e-02, -6.38105050e-02,\n",
       "        -6.56386092e-02, -6.41252240e-03, -4.79612127e-02,\n",
       "        -7.68133253e-02,  2.95384582e-02, -2.29948293e-02,\n",
       "         4.17036936e-02, -2.50048023e-02, -4.54503438e-03,\n",
       "        -4.17136364e-02, -1.32289743e-02, -6.38357475e-02,\n",
       "        -2.46471236e-03, -1.37337446e-02,  1.68976970e-02,\n",
       "        -6.30398095e-02,  8.98880959e-02,  4.18170653e-02,\n",
       "        -1.85687412e-02, -1.80442203e-08, -1.67998094e-02,\n",
       "        -3.21577340e-02,  6.30383715e-02, -4.13091704e-02,\n",
       "         4.44819182e-02,  2.02466967e-03,  6.29592687e-02,\n",
       "        -5.17373811e-03, -1.00444257e-02, -3.05639878e-02,\n",
       "         3.52672748e-02,  5.58581576e-02, -4.67124507e-02,\n",
       "         3.45102660e-02,  3.29578109e-02,  4.30114605e-02,\n",
       "         2.94360574e-02, -3.03164106e-02, -1.71107929e-02,\n",
       "         7.37484694e-02, -5.47909699e-02,  2.77514905e-02,\n",
       "         6.20170543e-03,  1.58800315e-02,  3.42978910e-02,\n",
       "        -5.15750982e-03,  2.35079546e-02,  7.53135532e-02,\n",
       "         1.92842856e-02,  3.36197317e-02,  5.09103388e-02,\n",
       "         1.52497083e-01,  1.64207797e-02,  2.70528123e-02,\n",
       "         3.75162363e-02,  2.18552873e-02,  5.66333868e-02,\n",
       "        -3.95746529e-02,  7.12313205e-02, -5.41377328e-02,\n",
       "         1.03764469e-03,  2.11853106e-02, -3.56309265e-02,\n",
       "         1.09016955e-01,  2.76535098e-03,  3.13997231e-02,\n",
       "         1.38419773e-03, -3.45738642e-02, -4.59277555e-02,\n",
       "         2.88083088e-02,  7.16903480e-03,  4.84684743e-02,\n",
       "         2.61018202e-02, -9.44072474e-03,  2.82169897e-02,\n",
       "         3.48724052e-02,  3.69098783e-02, -8.58949218e-03,\n",
       "        -3.53205465e-02, -2.47856919e-02, -1.91921555e-02,\n",
       "         3.80707271e-02,  5.99653646e-02, -4.22287174e-02],\n",
       "       [ 8.64385962e-02,  1.02762640e-01,  5.39455563e-03,\n",
       "         2.04442022e-03, -9.96338576e-03,  2.53855139e-02,\n",
       "         4.92875837e-02, -3.06265727e-02,  6.87254742e-02,\n",
       "         1.01365978e-02,  7.75397643e-02, -9.00807083e-02,\n",
       "         6.10621599e-03, -5.69898747e-02,  1.41714308e-02,\n",
       "         2.80491672e-02, -8.68464932e-02,  7.64398798e-02,\n",
       "        -1.03491299e-01, -6.77437708e-02,  6.99946508e-02,\n",
       "         8.44251141e-02, -7.24914856e-03,  1.04770381e-02,\n",
       "         1.34020550e-02,  6.77576661e-02, -9.42086205e-02,\n",
       "        -3.71689871e-02,  5.22617474e-02, -3.10853459e-02,\n",
       "        -9.63406861e-02,  1.57717038e-02,  2.57866848e-02,\n",
       "         7.85245001e-02,  7.89949447e-02,  1.91516057e-02,\n",
       "         1.64356641e-02,  3.10084829e-03,  3.81311364e-02,\n",
       "         2.37090625e-02,  1.05389506e-02, -4.40645479e-02,\n",
       "         4.41738591e-02, -2.58728005e-02,  6.15378581e-02,\n",
       "        -4.05427665e-02, -8.64140093e-02,  3.19722481e-02,\n",
       "        -8.90666444e-04, -2.44437028e-02, -9.19721574e-02,\n",
       "         2.33939458e-02, -8.30293596e-02,  4.41510379e-02,\n",
       "        -2.49692630e-02,  6.23019971e-02, -1.30356452e-03,\n",
       "         7.51395375e-02,  2.46384759e-02, -6.47244602e-02,\n",
       "        -1.17727757e-01,  3.83392163e-02, -9.11767408e-02,\n",
       "         6.35446236e-02,  7.62739778e-02, -8.80240798e-02,\n",
       "         9.54558980e-03, -4.69717458e-02, -8.41740593e-02,\n",
       "         3.88823971e-02, -1.14393532e-01,  6.28856663e-03,\n",
       "        -3.49361934e-02,  2.39750445e-02, -3.31317112e-02,\n",
       "        -1.57243852e-02, -3.78955565e-02, -8.81250110e-03,\n",
       "         7.06118867e-02,  3.28066200e-02,  2.03669094e-03,\n",
       "        -1.12278976e-01,  6.79721544e-03,  1.22765694e-02,\n",
       "         3.35303545e-02, -1.36200720e-02, -2.25489996e-02,\n",
       "        -2.25229245e-02, -2.03194916e-02,  5.04297279e-02,\n",
       "        -7.48652741e-02, -8.22822228e-02,  7.65962824e-02,\n",
       "         4.93392274e-02, -3.75553221e-02,  1.44634591e-02,\n",
       "        -5.72457798e-02, -1.79954451e-02,  1.09697938e-01,\n",
       "         1.19462803e-01,  8.09239573e-04,  6.17057420e-02,\n",
       "         3.26322094e-02, -1.30780071e-01, -1.48636639e-01,\n",
       "        -6.16232716e-02,  4.33885828e-02,  2.67129187e-02,\n",
       "         1.39785931e-02, -3.94002497e-02, -2.52711866e-02,\n",
       "         3.87740647e-03,  3.58664729e-02, -6.15420491e-02,\n",
       "         3.76660489e-02,  2.67565325e-02, -3.82659733e-02,\n",
       "        -3.54793221e-02, -2.39227246e-02,  8.67977142e-02,\n",
       "        -1.84063129e-02,  7.71039277e-02,  1.39862252e-03,\n",
       "         7.00382814e-02, -4.77877744e-02, -7.89820030e-02,\n",
       "         5.10814413e-02, -2.99868333e-33, -3.91645916e-02,\n",
       "        -2.56211474e-03,  1.65210571e-02,  9.48940776e-03,\n",
       "        -5.66219166e-02,  6.57783374e-02, -4.77002785e-02,\n",
       "         1.11662149e-02, -5.73558398e-02, -9.16259363e-03,\n",
       "        -2.17521265e-02, -5.59531823e-02, -1.11422949e-02,\n",
       "         9.32793245e-02,  1.66765265e-02, -1.36723565e-02,\n",
       "         4.34388742e-02,  1.87245233e-03,  7.29948143e-03,\n",
       "         5.16331792e-02,  4.80608493e-02,  1.35341465e-01,\n",
       "        -1.71738788e-02, -1.29698329e-02, -7.50109628e-02,\n",
       "         2.61107739e-02,  2.69802380e-02,  7.83041876e-04,\n",
       "        -4.87270094e-02,  1.17842834e-02, -4.59580496e-02,\n",
       "        -4.83213328e-02, -1.95671152e-02,  1.93889327e-02,\n",
       "         1.98807418e-02,  1.67432502e-02,  9.87801254e-02,\n",
       "        -2.74087712e-02,  2.34809034e-02,  3.70231457e-03,\n",
       "        -6.14514723e-02, -1.21228199e-03, -9.50475689e-03,\n",
       "         9.25154053e-03,  2.38443874e-02,  8.61232057e-02,\n",
       "         2.26789862e-02,  5.45142510e-04,  3.47129516e-02,\n",
       "         6.25466509e-03, -6.92775566e-03,  3.92400175e-02,\n",
       "         1.15675014e-02,  3.26280035e-02,  6.22155443e-02,\n",
       "         2.76114531e-02,  1.86883267e-02,  3.55805904e-02,\n",
       "         4.11795676e-02,  1.54782301e-02,  4.22691442e-02,\n",
       "         3.82248461e-02,  1.00313257e-02, -2.83245929e-02,\n",
       "         4.47052307e-02, -4.10458632e-02, -4.50551789e-03,\n",
       "        -5.44734113e-02,  2.62321010e-02,  1.79862399e-02,\n",
       "        -1.23118743e-01, -4.66952026e-02, -1.35913072e-02,\n",
       "         6.46710768e-02,  3.57345422e-03, -1.22233620e-02,\n",
       "        -1.79382227e-02, -2.55502034e-02,  2.37223785e-02,\n",
       "         4.08667186e-03, -6.51475936e-02,  4.43651602e-02,\n",
       "         4.68595773e-02, -3.25174630e-02,  4.02272446e-03,\n",
       "        -3.97602236e-03,  1.11939488e-02, -9.95597839e-02,\n",
       "         3.33168544e-02,  8.01061392e-02,  9.42691863e-02,\n",
       "        -6.38293922e-02,  3.23151648e-02, -5.13553135e-02,\n",
       "        -7.49881379e-03,  5.30049734e-34, -4.13194969e-02,\n",
       "         9.49646980e-02, -1.06401429e-01,  4.96590920e-02,\n",
       "        -3.41913216e-02, -3.16745639e-02, -1.71555858e-02,\n",
       "         1.70102087e-03,  5.79757802e-02, -1.21777621e-03,\n",
       "        -1.68536026e-02, -5.16912341e-02,  5.52998893e-02,\n",
       "        -3.42647843e-02,  3.08179352e-02, -3.10480911e-02,\n",
       "         9.27532539e-02,  3.72663289e-02, -2.37398297e-02,\n",
       "         4.45893891e-02,  1.46153271e-02,  1.16239354e-01,\n",
       "        -5.00112846e-02,  3.88716571e-02,  4.24747914e-03,\n",
       "         2.56976765e-02,  3.27243656e-02,  4.29907367e-02,\n",
       "        -1.36144655e-02,  2.56122276e-02,  1.06262648e-02,\n",
       "        -8.46863538e-02, -9.52982381e-02,  1.08399875e-01,\n",
       "        -7.51599744e-02, -1.37773519e-02,  6.37338310e-02,\n",
       "        -4.49671224e-03, -3.25321369e-02,  6.23613931e-02,\n",
       "         3.48053426e-02, -3.54922488e-02, -2.00222433e-02,\n",
       "         3.66608389e-02, -2.48837043e-02,  1.01818340e-02,\n",
       "        -7.01233223e-02, -4.31951284e-02,  2.95332558e-02,\n",
       "        -2.94936064e-04, -3.45386937e-02,  1.46675920e-02,\n",
       "        -9.83970240e-02, -4.70488258e-02, -8.85495543e-03,\n",
       "        -8.89913812e-02,  3.50996107e-02, -1.29601970e-01,\n",
       "        -4.98865917e-02, -6.12047315e-02, -5.97797409e-02,\n",
       "         9.46318824e-03,  4.91217673e-02, -7.75026679e-02,\n",
       "         8.09727311e-02, -4.79257591e-02,  2.34377990e-03,\n",
       "         7.57031515e-02, -2.40175836e-02, -1.52546065e-02,\n",
       "         4.86738533e-02, -3.85968313e-02, -7.04831630e-02,\n",
       "        -1.20348074e-02, -3.88790779e-02, -7.76016638e-02,\n",
       "        -1.07243871e-02,  1.04188360e-02, -2.13753767e-02,\n",
       "        -9.17386189e-02, -1.11345146e-02, -2.96065882e-02,\n",
       "         2.46458109e-02,  4.65713628e-03, -1.63449794e-02,\n",
       "        -3.95219512e-02,  7.73373693e-02, -2.84732785e-02,\n",
       "        -3.69938067e-03,  8.27665254e-02, -1.10408925e-02,\n",
       "         3.13983336e-02,  5.35094738e-02,  5.75145930e-02,\n",
       "        -3.17622237e-02, -1.52911266e-08, -7.99661204e-02,\n",
       "        -4.76797186e-02, -8.59788507e-02,  5.69616482e-02,\n",
       "        -4.08866331e-02,  2.23832466e-02, -4.64445865e-03,\n",
       "        -3.80130783e-02, -3.10671106e-02, -1.07278014e-02,\n",
       "         1.97698809e-02,  7.77001306e-03, -6.09476073e-03,\n",
       "        -3.86376120e-02,  2.80271824e-02,  6.78137690e-02,\n",
       "        -2.35351678e-02,  3.21747586e-02,  8.02536029e-03,\n",
       "        -2.39107311e-02, -1.21994514e-03,  3.14598940e-02,\n",
       "        -5.24923950e-02, -8.06813315e-03,  3.14771244e-03,\n",
       "         5.11496328e-02, -4.44104336e-02,  6.36013001e-02,\n",
       "         3.85083668e-02,  3.30433063e-02, -4.18727705e-03,\n",
       "         4.95592766e-02, -5.69605157e-02, -6.49713958e-03,\n",
       "        -2.49793120e-02, -1.60867088e-02,  6.62289709e-02,\n",
       "        -2.06310768e-02,  1.08045742e-01,  1.68547034e-02,\n",
       "         1.43812597e-02, -1.32127320e-02, -1.29387394e-01,\n",
       "         6.95216432e-02, -5.55772893e-02, -6.75413162e-02,\n",
       "        -5.45819197e-03, -6.13593776e-03,  3.90840508e-02,\n",
       "        -6.28779382e-02,  3.74063514e-02, -1.16570871e-02,\n",
       "         1.29150450e-02, -5.52495420e-02,  5.16076051e-02,\n",
       "        -4.30841651e-03,  5.80247901e-02,  1.86944753e-02,\n",
       "         2.27810368e-02,  3.21665145e-02,  5.37979044e-02,\n",
       "         7.02849105e-02,  7.49312118e-02, -8.41774866e-02]], dtype=float32)"
      ]
     },
     "execution_count": 11,
     "metadata": {},
     "output_type": "execute_result"
    }
   ],
   "source": [
    "# Download and initialize the embeddings model\n",
    "embedding_model = download_hugging_face_embeddings()\n",
    "\n",
    "# Test the model\n",
    "test_embeddings(embedding_model)"
   ]
  },
  {
   "cell_type": "code",
   "execution_count": 15,
   "id": "8f20b180",
   "metadata": {},
   "outputs": [
    {
     "name": "stdout",
     "output_type": "stream",
     "text": [
      "length 384\n"
     ]
    },
    {
     "name": "stderr",
     "output_type": "stream",
     "text": [
      "c:\\Users\\kevin\\anaconda3\\envs\\moneybot\\Lib\\site-packages\\torch\\nn\\modules\\module.py:1762: FutureWarning: `encoder_attention_mask` is deprecated and will be removed in version 4.55.0 for `BertSdpaSelfAttention.forward`.\n",
      "  return forward_call(*args, **kwargs)\n"
     ]
    }
   ],
   "source": [
    "query_result = embedding_model.encode(\"hello world\")\n",
    "print(\"length\", len(query_result))"
   ]
  },
  {
   "cell_type": "code",
   "execution_count": 18,
   "id": "5816eefc",
   "metadata": {},
   "outputs": [],
   "source": [
    "from dotenv import load_dotenv\n",
    "load_dotenv()\n",
    "import os"
   ]
  },
  {
   "cell_type": "code",
   "execution_count": 19,
   "id": "c936ba93",
   "metadata": {},
   "outputs": [],
   "source": [
    "PINECONE_API_KEY = os.environ.get('PINECONE_API_KEY')"
   ]
  },
  {
   "cell_type": "code",
   "execution_count": 23,
   "id": "fff418da",
   "metadata": {},
   "outputs": [
    {
     "name": "stdout",
     "output_type": "stream",
     "text": [
      "Index 'moneychatbot2' is ready!\n"
     ]
    }
   ],
   "source": [
    "from pinecone import Pinecone, ServerlessSpec\n",
    "import os\n",
    "\n",
    "pc = Pinecone(api_key=PINECONE_API_KEY)\n",
    "\n",
    "index_name = \"moneychatbot2\"\n",
    "\n",
    "if not pc.has_index(index_name):\n",
    "    pc.create_index(\n",
    "        name=index_name,\n",
    "        dimension=384,  # Dimension for all-MiniLM-L6-v2 model\n",
    "        metric=\"cosine\",\n",
    "        spec=ServerlessSpec(\n",
    "            cloud=\"aws\",\n",
    "            region=\"us-east-1\"\n",
    "        )\n",
    "    )\n",
    "    \n",
    "print(f\"Index '{index_name}' is ready!\")"
   ]
  },
  {
   "cell_type": "code",
   "execution_count": 28,
   "id": "b49c1cd2",
   "metadata": {},
   "outputs": [
    {
     "name": "stderr",
     "output_type": "stream",
     "text": [
      "c:\\Users\\kevin\\anaconda3\\envs\\moneybot\\Lib\\site-packages\\torch\\nn\\modules\\module.py:1762: FutureWarning: `encoder_attention_mask` is deprecated and will be removed in version 4.55.0 for `BertSdpaSelfAttention.forward`.\n",
      "  return forward_call(*args, **kwargs)\n"
     ]
    },
    {
     "name": "stdout",
     "output_type": "stream",
     "text": [
      "Vector store created successfully!\n"
     ]
    }
   ],
   "source": [
    "from langchain_pinecone import PineconeVectorStore\n",
    "from langchain_community.embeddings import HuggingFaceEmbeddings\n",
    "\n",
    "# Create LangChain compatible embeddings\n",
    "langchain_embeddings = HuggingFaceEmbeddings(\n",
    "    model_name=\"sentence-transformers/all-MiniLM-L6-v2\",\n",
    "    model_kwargs={'device': 'cpu'},\n",
    "    encode_kwargs={'normalize_embeddings': True}\n",
    ")\n",
    "\n",
    "# Create vector store with LangChain embeddings\n",
    "docsearch = PineconeVectorStore.from_documents(\n",
    "    documents=text_chunks,\n",
    "    index_name=index_name,\n",
    "    embedding=langchain_embeddings,\n",
    ")\n",
    "\n",
    "print(\"Vector store created successfully!\")"
   ]
  },
  {
   "cell_type": "code",
   "execution_count": 31,
   "id": "cb2cfa50",
   "metadata": {},
   "outputs": [],
   "source": [
    "from langchain_pinecone import PineconeVectorStore\n",
    "\n",
    "docsearch = PineconeVectorStore.from_existing_index(\n",
    "    index_name=index_name,\n",
    "    embedding=langchain_embeddings\n",
    ")\n"
   ]
  },
  {
   "cell_type": "code",
   "execution_count": 32,
   "id": "452d86a0",
   "metadata": {},
   "outputs": [
    {
     "data": {
      "text/plain": [
       "<langchain_pinecone.vectorstores.PineconeVectorStore at 0x20d38f40190>"
      ]
     },
     "execution_count": 32,
     "metadata": {},
     "output_type": "execute_result"
    }
   ],
   "source": [
    "docsearch"
   ]
  },
  {
   "cell_type": "code",
   "execution_count": 33,
   "id": "427bacd8",
   "metadata": {},
   "outputs": [],
   "source": [
    "retriever = docsearch.as_retriever(search_type=\"similarity\", search_kwargs={\"k\": 3})"
   ]
  },
  {
   "cell_type": "code",
   "execution_count": 34,
   "id": "e13dd6cf",
   "metadata": {},
   "outputs": [
    {
     "name": "stderr",
     "output_type": "stream",
     "text": [
      "c:\\Users\\kevin\\anaconda3\\envs\\moneybot\\Lib\\site-packages\\torch\\nn\\modules\\module.py:1762: FutureWarning: `encoder_attention_mask` is deprecated and will be removed in version 4.55.0 for `BertSdpaSelfAttention.forward`.\n",
      "  return forward_call(*args, **kwargs)\n"
     ]
    }
   ],
   "source": [
    "retriever_docs = retriever.invoke(\"what is psychology of money?\")"
   ]
  },
  {
   "cell_type": "code",
   "execution_count": 35,
   "id": "a8ccffe2",
   "metadata": {},
   "outputs": [
    {
     "data": {
      "text/plain": [
       "[Document(id='38cfc0ca-b442-474c-a6ff-8b4ddfc1371b', metadata={'author': 'Morgan Housel', 'creationdate': \"D:20210505131951Z00'00'\", 'creator': 'Adobe InDesign 15.0 (Macintosh)', 'moddate': \"D:20210505131951Z00'00'\", 'page': 0.0, 'page_label': '1', 'producer': 'macOS Version 10.14.6 (Build 18G3020) Quartz PDFContext', 'source': '..\\\\Data\\\\money_book.pdf', 'title': 'The Psychology of Money', 'total_pages': 32.0}, page_content='Money\\nPsychology\\nof\\nThe'),\n",
       " Document(id='114a1179-7dac-493d-9d9f-c441bf394fa6', metadata={'author': 'Morgan Housel', 'creationdate': \"D:20210505131951Z00'00'\", 'creator': 'Adobe InDesign 15.0 (Macintosh)', 'moddate': \"D:20210505131951Z00'00'\", 'page': 0.0, 'page_label': '1', 'producer': 'macOS Version 10.14.6 (Build 18G3020) Quartz PDFContext', 'source': '..\\\\Data\\\\money_book.pdf', 'title': 'The Psychology of Money', 'total_pages': 32.0}, page_content='Money\\nPsychology\\nof\\nThe'),\n",
       " Document(id='65dcb4d0-b51e-4537-8e14-1b48bb2ecaf8', metadata={'author': 'Morgan Housel', 'creationdate': \"D:20210505131951Z00'00'\", 'creator': 'Adobe InDesign 15.0 (Macintosh)', 'moddate': \"D:20210505131951Z00'00'\", 'page': 15.0, 'page_label': '16', 'producer': 'macOS Version 10.14.6 (Build 18G3020) Quartz PDFContext', 'source': '..\\\\Data\\\\money_book.pdf', 'title': 'The Psychology of Money', 'total_pages': 32.0}, page_content='6\\nTHE PSYCHOLOGY OF MONEY\\nHave realistic views about what money does, and doesn’t do, to \\nour happiness?\\nI’ve seen no compelling evidence. \\nMost of the reason why, I believe, is that we think about and \\nare taught about money in ways that are too much like physics \\n(with rules and laws) and not enough like psychology (with \\nemotions and nuance). \\nAnd that, to me, is as fascinating as it is important. \\nMoney is everywhere, it affects all of us, and confuses most of')]"
      ]
     },
     "execution_count": 35,
     "metadata": {},
     "output_type": "execute_result"
    }
   ],
   "source": [
    "retriever_docs"
   ]
  },
  {
   "cell_type": "code",
   "execution_count": 56,
   "id": "d0b0d5ca",
   "metadata": {},
   "outputs": [
    {
     "name": "stdout",
     "output_type": "stream",
     "text": [
      "Checking environment variables...\n",
      "GOOGLE_API_KEY found: True\n",
      "PINECONE_API_KEY found: True\n",
      "GOOGLE_API_KEY starts with: AIzaSyBsgC...\n",
      "Gemini model initialized successfully!\n"
     ]
    }
   ],
   "source": [
    "# Reload environment variables\n",
    "from dotenv import load_dotenv\n",
    "import os\n",
    "\n",
    "# Force reload the .env file\n",
    "load_dotenv(override=True)\n",
    "\n",
    "# Debug: Check what's in the environment\n",
    "print(\"Checking environment variables...\")\n",
    "GOOGLE_API_KEY = os.environ.get('GOOGLE_API_KEY')\n",
    "PINECONE_API_KEY = os.environ.get('PINECONE_API_KEY')\n",
    "\n",
    "print(f\"GOOGLE_API_KEY found: {GOOGLE_API_KEY is not None}\")\n",
    "print(f\"PINECONE_API_KEY found: {PINECONE_API_KEY is not None}\")\n",
    "\n",
    "if GOOGLE_API_KEY:\n",
    "    print(f\"GOOGLE_API_KEY starts with: {GOOGLE_API_KEY[:10]}...\")\n",
    "else:\n",
    "    print(\"GOOGLE_API_KEY is None\")\n",
    "\n",
    "# Check if API key exists\n",
    "if GOOGLE_API_KEY is None:\n",
    "    print(\"Error: GOOGLE_API_KEY not found in environment variables.\")\n",
    "    print(\"Please check your .env file location and content\")\n",
    "else:\n",
    "    # Configure Google API key for the session\n",
    "    os.environ[\"GOOGLE_API_KEY\"] = GOOGLE_API_KEY\n",
    "    \n",
    "    # Import after setting environment\n",
    "    from langchain_google_genai import ChatGoogleGenerativeAI\n",
    "    \n",
    "    # Initialize Gemini model with explicit API key\n",
    "    llm = ChatGoogleGenerativeAI(\n",
    "        model=\"gemini-2.0-flash\",\n",
    "        temperature=0.4,\n",
    "        max_tokens=1000,\n",
    "        google_api_key=GOOGLE_API_KEY\n",
    "    )\n",
    "    \n",
    "    print(\"Gemini model initialized successfully!\")\n",
    "    "
   ]
  },
  {
   "cell_type": "code",
   "execution_count": 57,
   "id": "08b2396e",
   "metadata": {},
   "outputs": [],
   "source": [
    "from langchain.chains import create_retrieval_chain\n",
    "from langchain.chains.combine_documents import create_stuff_documents_chain\n",
    "from langchain.prompts import ChatPromptTemplate\n",
    "\n",
    "system_prompt = (\n",
    "    \"You are a helpful assistant that answers questions based on the provided context. \"\n",
    "    \"Use the following pieces of retrieved context to answer \"\n",
    "    \"the question. If you don't know the answer, just say that you don't know. \"\n",
    "    \"\\n\\n\"\n",
    "    \"{context}\"\n",
    ")\n",
    "\n",
    "prompt = ChatPromptTemplate.from_messages(\n",
    "    [\n",
    "        (\"system\", system_prompt),\n",
    "        (\"human\", \"{input}\"),\n",
    "    ]\n",
    ")"
   ]
  },
  {
   "cell_type": "code",
   "execution_count": 58,
   "id": "7d537a6e",
   "metadata": {},
   "outputs": [],
   "source": [
    "question_answer_chain = create_stuff_documents_chain(llm, prompt)\n",
    "rag_chain = create_retrieval_chain(retriever, question_answer_chain)"
   ]
  },
  {
   "cell_type": "code",
   "execution_count": 60,
   "id": "fcf7617f",
   "metadata": {},
   "outputs": [
    {
     "name": "stderr",
     "output_type": "stream",
     "text": [
      "c:\\Users\\kevin\\anaconda3\\envs\\moneybot\\Lib\\site-packages\\torch\\nn\\modules\\module.py:1762: FutureWarning: `encoder_attention_mask` is deprecated and will be removed in version 4.55.0 for `BertSdpaSelfAttention.forward`.\n",
      "  return forward_call(*args, **kwargs)\n"
     ]
    },
    {
     "name": "stdout",
     "output_type": "stream",
     "text": [
      "Response keys: dict_keys(['input', 'context', 'answer'])\n",
      "\n",
      "Answer:\n",
      "Based on the provided text, the \"game\" refers to dealing with money. The text mentions that we are all relatively new to this game, which implies that managing money is a game.\n"
     ]
    }
   ],
   "source": [
    "try:\n",
    "    response = rag_chain.invoke({\"input\": \"What is game\"})\n",
    "    print(\"Response keys:\", response.keys())\n",
    "    print(\"\\nAnswer:\")\n",
    "    print(response[\"answer\"])\n",
    "except Exception as e:\n",
    "    print(f\"Error: {e}\")\n",
    "    print(f\"Error type: {type(e)}\")\n",
    "    \n",
    "    # Let's try a different approach\n",
    "    print(\"\\nTrying alternative approach...\")\n",
    "    try:\n",
    "        # Test the retriever first\n",
    "        docs = retriever.invoke(\"What is the psychology of money?\")\n",
    "        print(f\"Retrieved {len(docs)} documents\")\n",
    "        \n",
    "        # Test the LLM directly\n",
    "        test_response = llm.invoke(\"Hello, can you answer questions?\")\n",
    "        print(\"LLM test successful:\", test_response.content[:50] + \"...\")\n",
    "        \n",
    "    except Exception as e2:\n",
    "        print(f\"Alternative test error: {e2}\")"
   ]
  },
  {
   "cell_type": "code",
   "execution_count": null,
   "id": "c116adfe",
   "metadata": {},
   "outputs": [],
   "source": []
  }
 ],
 "metadata": {
  "kernelspec": {
   "display_name": "moneybot",
   "language": "python",
   "name": "python3"
  },
  "language_info": {
   "codemirror_mode": {
    "name": "ipython",
    "version": 3
   },
   "file_extension": ".py",
   "mimetype": "text/x-python",
   "name": "python",
   "nbconvert_exporter": "python",
   "pygments_lexer": "ipython3",
   "version": "3.11.13"
  }
 },
 "nbformat": 4,
 "nbformat_minor": 5
}
